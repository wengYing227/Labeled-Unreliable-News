{
 "cells": [
  {
   "cell_type": "markdown",
   "metadata": {
    "id": "oyI5SA6HIoRH"
   },
   "source": [
    "# CS4248 Project\n",
    "(DON'T CLICK RUN ALL! Lemmatization takes tooo long and pls don't run it again)"
   ]
  },
  {
   "cell_type": "code",
   "execution_count": 1,
   "metadata": {
    "ExecuteTime": {
     "end_time": "2024-03-03T12:43:08.052298Z",
     "start_time": "2024-03-03T12:43:07.925947Z"
    },
    "colab": {
     "base_uri": "https://localhost:8080/"
    },
    "id": "vS033yHSHyAx",
    "outputId": "e923c9e4-6bda-4a5a-970a-3bdd5ee92c59"
   },
   "outputs": [
    {
     "name": "stdout",
     "output_type": "stream",
     "text": [
      "Requirement already satisfied: nltk==3.8.1 in ./venv/lib/python3.10/site-packages (from -r requirements.txt (line 1)) (3.8.1)\n",
      "Requirement already satisfied: numpy==1.25.1 in ./venv/lib/python3.10/site-packages (from -r requirements.txt (line 2)) (1.25.1)\n",
      "Requirement already satisfied: pandas==2.1.1 in ./venv/lib/python3.10/site-packages (from -r requirements.txt (line 3)) (2.1.1)\n",
      "Requirement already satisfied: pyspellchecker==0.8.1 in ./venv/lib/python3.10/site-packages (from -r requirements.txt (line 4)) (0.8.1)\n",
      "Requirement already satisfied: scikit-learn==1.4.1.post1 in ./venv/lib/python3.10/site-packages (from -r requirements.txt (line 5)) (1.4.1.post1)\n",
      "Requirement already satisfied: tqdm==4.65.0 in ./venv/lib/python3.10/site-packages (from -r requirements.txt (line 6)) (4.65.0)\n",
      "Requirement already satisfied: textblob in ./venv/lib/python3.10/site-packages (from -r requirements.txt (line 7)) (0.18.0.post0)\n",
      "Requirement already satisfied: click in ./venv/lib/python3.10/site-packages (from nltk==3.8.1->-r requirements.txt (line 1)) (8.1.7)\n",
      "Requirement already satisfied: joblib in ./venv/lib/python3.10/site-packages (from nltk==3.8.1->-r requirements.txt (line 1)) (1.3.2)\n",
      "Requirement already satisfied: regex>=2021.8.3 in ./venv/lib/python3.10/site-packages (from nltk==3.8.1->-r requirements.txt (line 1)) (2023.12.25)\n",
      "Requirement already satisfied: tzdata>=2022.1 in ./venv/lib/python3.10/site-packages (from pandas==2.1.1->-r requirements.txt (line 3)) (2024.1)\n",
      "Requirement already satisfied: python-dateutil>=2.8.2 in ./venv/lib/python3.10/site-packages (from pandas==2.1.1->-r requirements.txt (line 3)) (2.9.0.post0)\n",
      "Requirement already satisfied: pytz>=2020.1 in ./venv/lib/python3.10/site-packages (from pandas==2.1.1->-r requirements.txt (line 3)) (2024.1)\n",
      "Requirement already satisfied: threadpoolctl>=2.0.0 in ./venv/lib/python3.10/site-packages (from scikit-learn==1.4.1.post1->-r requirements.txt (line 5)) (3.3.0)\n",
      "Requirement already satisfied: scipy>=1.6.0 in ./venv/lib/python3.10/site-packages (from scikit-learn==1.4.1.post1->-r requirements.txt (line 5)) (1.12.0)\n",
      "Requirement already satisfied: six>=1.5 in ./venv/lib/python3.10/site-packages (from python-dateutil>=2.8.2->pandas==2.1.1->-r requirements.txt (line 3)) (1.16.0)\n",
      "\n",
      "\u001b[1m[\u001b[0m\u001b[34;49mnotice\u001b[0m\u001b[1;39;49m]\u001b[0m\u001b[39;49m A new release of pip available: \u001b[0m\u001b[31;49m22.3.1\u001b[0m\u001b[39;49m -> \u001b[0m\u001b[32;49m24.0\u001b[0m\n",
      "\u001b[1m[\u001b[0m\u001b[34;49mnotice\u001b[0m\u001b[1;39;49m]\u001b[0m\u001b[39;49m To update, run: \u001b[0m\u001b[32;49mpip install --upgrade pip\u001b[0m\n",
      "Note: you may need to restart the kernel to use updated packages.\n"
     ]
    }
   ],
   "source": [
    "# from google.colab import drive\n",
    "# drive.mount('/content/drive')\n",
    "# \n",
    "# %cd \"/content/drive/My Drive/CS4248 Project\"\n",
    "# !cd \"/content/drive/My Drive/CS4248 Project\"\n",
    "\n",
    "%pip install -r requirements.txt"
   ]
  },
  {
   "cell_type": "code",
   "execution_count": 62,
   "metadata": {
    "ExecuteTime": {
     "end_time": "2024-03-05T16:49:33.330247Z",
     "start_time": "2024-03-05T16:49:33.275009Z"
    },
    "id": "2nqSeqYQJ4vW"
   },
   "outputs": [
    {
     "name": "stderr",
     "output_type": "stream",
     "text": [
      "[nltk_data] Error loading stopwords: <urlopen error [SSL:\n",
      "[nltk_data]     CERTIFICATE_VERIFY_FAILED] certificate verify failed:\n",
      "[nltk_data]     unable to get local issuer certificate (_ssl.c:997)>\n",
      "/var/folders/j2/q86pqgyn7bz6wlqds1ml4h_40000gn/T/ipykernel_94233/2747738669.py:28: DeprecationWarning: Call to deprecated `glove2word2vec` (KeyedVectors.load_word2vec_format(.., binary=False, no_header=True) loads GLoVE text vectors.).\n",
      "  glove2word2vec(glove_path, word2vec_output_file)\n"
     ]
    }
   ],
   "source": [
    "import pandas as pd\n",
    "import numpy as np\n",
    "import csv\n",
    "from sklearn.feature_extraction.text import TfidfVectorizer\n",
    "from sklearn.metrics import classification_report\n",
    "from sklearn.linear_model import LogisticRegression\n",
    "from sklearn.naive_bayes import ComplementNB\n",
    "from sklearn.feature_extraction.text import TfidfVectorizer\n",
    "import datetime\n",
    "from tqdm import tqdm\n",
    "\n",
    "import nltk\n",
    "from nltk.corpus import stopwords\n",
    "nltk.download('stopwords')\n",
    "\n",
    "import os\n",
    "from gensim.models import KeyedVectors\n",
    "from gensim.scripts.glove2word2vec import glove2word2vec\n",
    "\n",
    "glove_filename='glove.6B.100d.txt'\n",
    "# If you are running for the first time, uncomment the below 2 lines\n",
    "# !wget http://nlp.stanford.edu/data/glove.6B.zip\n",
    "# !unzip glove*.zip\n",
    "glove_path = os.path.abspath(os.path.join('.', glove_filename))\n",
    "\n",
    "word2vec_output_file = glove_filename+'.word2vec'\n",
    "\n",
    "glove2word2vec(glove_path, word2vec_output_file)\n",
    "word2vec_model = KeyedVectors.load_word2vec_format(word2vec_output_file, binary=False)"
   ]
  },
  {
   "cell_type": "code",
   "execution_count": 3,
   "metadata": {
    "ExecuteTime": {
     "end_time": "2024-03-05T16:49:34.929285Z",
     "start_time": "2024-03-05T16:49:34.039945Z"
    },
    "id": "9PepPt_CL94x"
   },
   "outputs": [],
   "source": [
    "csv.field_size_limit(999999)\n",
    "train = pd.read_csv('raw_data/fulltrain.csv', header = None, names=['class','text'])\n",
    "X_train = train['text']\n",
    "y_train = train['class']"
   ]
  },
  {
   "cell_type": "code",
   "execution_count": 4,
   "metadata": {
    "ExecuteTime": {
     "end_time": "2024-03-05T16:49:34.935720Z",
     "start_time": "2024-03-05T16:49:34.929618Z"
    },
    "colab": {
     "base_uri": "https://localhost:8080/",
     "height": 206
    },
    "id": "sCT1xI_yXFJO",
    "outputId": "172bcde2-37a1-40c2-e329-f0152f49ab50"
   },
   "outputs": [
    {
     "data": {
      "text/html": [
       "<div>\n",
       "<style scoped>\n",
       "    .dataframe tbody tr th:only-of-type {\n",
       "        vertical-align: middle;\n",
       "    }\n",
       "\n",
       "    .dataframe tbody tr th {\n",
       "        vertical-align: top;\n",
       "    }\n",
       "\n",
       "    .dataframe thead th {\n",
       "        text-align: right;\n",
       "    }\n",
       "</style>\n",
       "<table border=\"1\" class=\"dataframe\">\n",
       "  <thead>\n",
       "    <tr style=\"text-align: right;\">\n",
       "      <th></th>\n",
       "      <th>class</th>\n",
       "      <th>text</th>\n",
       "    </tr>\n",
       "  </thead>\n",
       "  <tbody>\n",
       "    <tr>\n",
       "      <th>0</th>\n",
       "      <td>1</td>\n",
       "      <td>A little less than a decade ago, hockey fans w...</td>\n",
       "    </tr>\n",
       "    <tr>\n",
       "      <th>1</th>\n",
       "      <td>1</td>\n",
       "      <td>The writers of the HBO series The Sopranos too...</td>\n",
       "    </tr>\n",
       "    <tr>\n",
       "      <th>2</th>\n",
       "      <td>1</td>\n",
       "      <td>Despite claims from the TV news outlet to offe...</td>\n",
       "    </tr>\n",
       "    <tr>\n",
       "      <th>3</th>\n",
       "      <td>1</td>\n",
       "      <td>After receiving 'subpar' service and experienc...</td>\n",
       "    </tr>\n",
       "    <tr>\n",
       "      <th>4</th>\n",
       "      <td>1</td>\n",
       "      <td>After watching his beloved Seattle Mariners pr...</td>\n",
       "    </tr>\n",
       "  </tbody>\n",
       "</table>\n",
       "</div>"
      ],
      "text/plain": [
       "   class                                               text\n",
       "0      1  A little less than a decade ago, hockey fans w...\n",
       "1      1  The writers of the HBO series The Sopranos too...\n",
       "2      1  Despite claims from the TV news outlet to offe...\n",
       "3      1  After receiving 'subpar' service and experienc...\n",
       "4      1  After watching his beloved Seattle Mariners pr..."
      ]
     },
     "execution_count": 4,
     "metadata": {},
     "output_type": "execute_result"
    }
   ],
   "source": [
    "train.head()"
   ]
  },
  {
   "cell_type": "code",
   "execution_count": 66,
   "metadata": {
    "ExecuteTime": {
     "end_time": "2024-03-05T16:49:35.839149Z",
     "start_time": "2024-03-05T16:49:35.784315Z"
    },
    "id": "-FcMBozxWAvz"
   },
   "outputs": [],
   "source": [
    "test = pd.read_csv(\"raw_data/balancedtest.csv\", header = None, names=['class','text'])\n",
    "X_test = test['text']\n",
    "y_test = test['class']"
   ]
  },
  {
   "cell_type": "code",
   "execution_count": 6,
   "metadata": {
    "ExecuteTime": {
     "end_time": "2024-03-05T16:49:36.665109Z",
     "start_time": "2024-03-05T16:49:36.648989Z"
    },
    "colab": {
     "base_uri": "https://localhost:8080/",
     "height": 206
    },
    "id": "s5befmSMXN8N",
    "outputId": "c1aef16d-ccb9-4036-f8af-1a6c9d16c035"
   },
   "outputs": [
    {
     "data": {
      "text/html": [
       "<div>\n",
       "<style scoped>\n",
       "    .dataframe tbody tr th:only-of-type {\n",
       "        vertical-align: middle;\n",
       "    }\n",
       "\n",
       "    .dataframe tbody tr th {\n",
       "        vertical-align: top;\n",
       "    }\n",
       "\n",
       "    .dataframe thead th {\n",
       "        text-align: right;\n",
       "    }\n",
       "</style>\n",
       "<table border=\"1\" class=\"dataframe\">\n",
       "  <thead>\n",
       "    <tr style=\"text-align: right;\">\n",
       "      <th></th>\n",
       "      <th>class</th>\n",
       "      <th>text</th>\n",
       "    </tr>\n",
       "  </thead>\n",
       "  <tbody>\n",
       "    <tr>\n",
       "      <th>0</th>\n",
       "      <td>1</td>\n",
       "      <td>When so many actors seem content to churn out ...</td>\n",
       "    </tr>\n",
       "    <tr>\n",
       "      <th>1</th>\n",
       "      <td>1</td>\n",
       "      <td>In what football insiders are calling an unex...</td>\n",
       "    </tr>\n",
       "    <tr>\n",
       "      <th>2</th>\n",
       "      <td>1</td>\n",
       "      <td>In a freak accident following Game 3 of the N....</td>\n",
       "    </tr>\n",
       "    <tr>\n",
       "      <th>3</th>\n",
       "      <td>1</td>\n",
       "      <td>North Koreas official news agency announced to...</td>\n",
       "    </tr>\n",
       "    <tr>\n",
       "      <th>4</th>\n",
       "      <td>1</td>\n",
       "      <td>The former Alaska Governor Sarah Palin would b...</td>\n",
       "    </tr>\n",
       "  </tbody>\n",
       "</table>\n",
       "</div>"
      ],
      "text/plain": [
       "   class                                               text\n",
       "0      1  When so many actors seem content to churn out ...\n",
       "1      1   In what football insiders are calling an unex...\n",
       "2      1  In a freak accident following Game 3 of the N....\n",
       "3      1  North Koreas official news agency announced to...\n",
       "4      1  The former Alaska Governor Sarah Palin would b..."
      ]
     },
     "execution_count": 6,
     "metadata": {},
     "output_type": "execute_result"
    }
   ],
   "source": [
    "test.head()"
   ]
  },
  {
   "cell_type": "code",
   "execution_count": 78,
   "metadata": {},
   "outputs": [],
   "source": [
    "from sklearn.preprocessing import LabelEncoder,OneHotEncoder\n",
    "\n",
    "label_encoder = LabelEncoder()\n",
    "one_hot_encoder = OneHotEncoder()\n",
    "y_train_labeled = one_hot_encoder.fit_transform(np.array(y_train).reshape(-1, 1)).toarray()\n",
    "y_test_labeled = one_hot_encoder.transform(np.array(y_test).reshape(-1, 1)).toarray()\n"
   ]
  },
  {
   "cell_type": "markdown",
   "metadata": {
    "id": "3WOxbEhspgUT"
   },
   "source": [
    "## Baseline Models"
   ]
  },
  {
   "cell_type": "code",
   "execution_count": 70,
   "metadata": {
    "ExecuteTime": {
     "end_time": "2024-03-05T16:49:47.137182Z",
     "start_time": "2024-03-05T16:49:37.686948Z"
    },
    "id": "NKfM8O-nbbpJ"
   },
   "outputs": [],
   "source": [
    "def tfidf(X_train, X_test):\n",
    "\n",
    "  tfidf_baseline = TfidfVectorizer(ngram_range=(1,1), max_features = 10000)\n",
    "\n",
    "  X_train_tfidf = tfidf_baseline.fit_transform(X_train)\n",
    "\n",
    "  X_test_tfidf = tfidf_baseline.transform(X_test)\n",
    "\n",
    "  return X_train_tfidf, X_test_tfidf\n",
    "\n",
    "X_train_tfidf, X_test_tfidf = tfidf(X_train, X_test)"
   ]
  },
  {
   "cell_type": "code",
   "execution_count": 74,
   "metadata": {
    "ExecuteTime": {
     "end_time": "2024-03-05T16:49:53.567610Z",
     "start_time": "2024-03-05T16:49:47.138293Z"
    },
    "colab": {
     "base_uri": "https://localhost:8080/"
    },
    "id": "SDCcR3tOpJ-e",
    "outputId": "c1bc4bd9-bf63-4b1a-902b-147b1c243360"
   },
   "outputs": [
    {
     "name": "stdout",
     "output_type": "stream",
     "text": [
      "Training start:  2024-04-12 22:22:54.117954\n",
      "              precision    recall  f1-score   support\n",
      "\n",
      "           1       0.85      0.79      0.82       750\n",
      "           2       0.82      0.38      0.52       750\n",
      "           3       0.57      0.83      0.67       750\n",
      "           4       0.80      0.92      0.86       750\n",
      "\n",
      "    accuracy                           0.73      3000\n",
      "   macro avg       0.76      0.73      0.72      3000\n",
      "weighted avg       0.76      0.73      0.72      3000\n",
      "\n",
      "Training finish:  2024-04-12 22:23:04.228760\n"
     ]
    }
   ],
   "source": [
    "# Logistic Regression - baseline\n",
    "\n",
    "def LR(X_train_tfidf, y_train, X_test_tfidf, y_test):\n",
    "  print(\"Training start: \", datetime.datetime.now())\n",
    "\n",
    "  LR_classifier = LogisticRegression(random_state = 42, max_iter=2000).fit(X_train_tfidf, y_train)\n",
    "\n",
    "  y_pred_lr = LR_classifier.predict(X_test_tfidf)\n",
    "\n",
    "  print(classification_report(y_test, y_pred_lr))\n",
    "  print(\"Training finish: \", datetime.datetime.now())\n",
    "\n",
    "  return y_pred_lr\n",
    "\n",
    "y_pred_lr = LR(X_train_tfidf, y_train, X_test_tfidf, y_test)"
   ]
  },
  {
   "cell_type": "code",
   "execution_count": 53,
   "metadata": {
    "ExecuteTime": {
     "end_time": "2024-03-05T16:49:53.621308Z",
     "start_time": "2024-03-05T16:49:53.568257Z"
    },
    "colab": {
     "base_uri": "https://localhost:8080/"
    },
    "id": "VQyWjGLUxREy",
    "outputId": "e4827d40-70fe-44b0-ecd2-9c271deaf5dd"
   },
   "outputs": [
    {
     "name": "stdout",
     "output_type": "stream",
     "text": [
      "              precision    recall  f1-score   support\n",
      "\n",
      "           1       0.62      0.61      0.62       750\n",
      "           2       0.62      0.46      0.53       750\n",
      "           3       0.62      0.93      0.74       750\n",
      "           4       0.88      0.67      0.76       750\n",
      "\n",
      "    accuracy                           0.67      3000\n",
      "   macro avg       0.68      0.67      0.66      3000\n",
      "weighted avg       0.68      0.67      0.66      3000\n",
      "\n"
     ]
    }
   ],
   "source": [
    "# NB - baseline\n",
    "\n",
    "def NB(X_train_tfidf, y_train, X_test_tfidf, y_test):\n",
    "\n",
    "  nb_classifier = ComplementNB().fit(X_train_tfidf, y_train)\n",
    "\n",
    "  y_pred_nb = nb_classifier.predict(X_test_tfidf)\n",
    "\n",
    "  print(classification_report(y_test, y_pred_nb))\n",
    "\n",
    "  return y_pred_nb\n",
    "\n",
    "y_pred_nb = NB(X_train_tfidf, y_train, X_test_tfidf, y_test)"
   ]
  },
  {
   "cell_type": "markdown",
   "metadata": {
    "id": "ITNfwpWkt1OI"
   },
   "source": [
    "## Preprocessing"
   ]
  },
  {
   "cell_type": "markdown",
   "metadata": {
    "id": "z6Yrnd2f_y5W"
   },
   "source": [
    "### Lemmatization with POS Tagging\n",
    "(DON'T RUN AGAIN! It takes tooooo long)"
   ]
  },
  {
   "cell_type": "code",
   "execution_count": 54,
   "metadata": {
    "ExecuteTime": {
     "end_time": "2024-03-05T16:49:53.621497Z",
     "start_time": "2024-03-05T16:49:53.605689Z"
    },
    "colab": {
     "base_uri": "https://localhost:8080/"
    },
    "id": "3E3t6cQp1r-N",
    "outputId": "45aad408-e2fc-4eea-d48b-c4cd161199bd"
   },
   "outputs": [
    {
     "name": "stderr",
     "output_type": "stream",
     "text": [
      "[nltk_data] Error loading averaged_perceptron_tagger: <urlopen error\n",
      "[nltk_data]     [SSL: CERTIFICATE_VERIFY_FAILED] certificate verify\n",
      "[nltk_data]     failed: unable to get local issuer certificate\n",
      "[nltk_data]     (_ssl.c:997)>\n"
     ]
    }
   ],
   "source": [
    "# WORDNET LEMMATIZER (with appropriate pos tags)\n",
    "import nltk\n",
    "from nltk.stem import WordNetLemmatizer\n",
    "nltk.download('averaged_perceptron_tagger')\n",
    "from nltk.corpus import wordnet\n",
    "\n",
    "lemmatizer = WordNetLemmatizer()\n",
    "\n",
    "# Define function to lemmatize each word with its POS tag\n",
    "\n",
    "# POS_TAGGER_FUNCTION : TYPE 1\n",
    "def pos_tagger(nltk_tag):\n",
    "    if nltk_tag.startswith('J'):\n",
    "        return wordnet.ADJ\n",
    "    elif nltk_tag.startswith('V'):\n",
    "        return wordnet.VERB\n",
    "    elif nltk_tag.startswith('N'):\n",
    "        return wordnet.NOUN\n",
    "    elif nltk_tag.startswith('R'):\n",
    "        return wordnet.ADV\n",
    "    else:\n",
    "        return None\n",
    "\n",
    "def lemmatize_with_pos(tokens):\n",
    "  # tokenize the sentence and find the POS tag for each token\n",
    "  pos_tagged = nltk.pos_tag(tokens)\n",
    "\n",
    "  # print(pos_tagged)\n",
    "\n",
    "  wordnet_tagged = list(map(lambda x: (x[0], pos_tagger(x[1])), pos_tagged))\n",
    "  # print(wordnet_tagged)\n",
    "tqmd\n",
    "  lemmatized_sentence = []\n",
    "  for word, tag in wordnet_tagged:\n",
    "      if tag is None:\n",
    "          # if there is no available tag, append the token as is\n",
    "          lemmatized_sentence.append(word)\n",
    "      else:\n",
    "          # else use the tag to lemmatize the token\n",
    "          lemmatized_sentence.append(lemmatizer.lemmatize(word, tag))\n",
    "  # lemmatized_sentence = \" \".join(lemmatized_sentence)\n",
    "\n",
    "  # print(lemmatized_sentence)\n",
    "  return lemmatized_sentence"
   ]
  },
  {
   "cell_type": "code",
   "execution_count": 136,
   "metadata": {
    "ExecuteTime": {
     "end_time": "2024-03-05T17:00:54.576560Z",
     "start_time": "2024-03-05T16:49:53.615691Z"
    },
    "colab": {
     "base_uri": "https://localhost:8080/"
    },
    "id": "i-3cE9Qzt3zY",
    "outputId": "dd07285c-1ccd-41b5-c9d3-78d8174a7cb1"
   },
   "outputs": [
    {
     "name": "stderr",
     "output_type": "stream",
     "text": [
      "[nltk_data] Error loading punkt: <urlopen error [SSL:\n",
      "[nltk_data]     CERTIFICATE_VERIFY_FAILED] certificate verify failed:\n",
      "[nltk_data]     unable to get local issuer certificate (_ssl.c:997)>\n",
      "[nltk_data] Error loading wordnet: <urlopen error [SSL:\n",
      "[nltk_data]     CERTIFICATE_VERIFY_FAILED] certificate verify failed:\n",
      "[nltk_data]     unable to get local issuer certificate (_ssl.c:997)>\n"
     ]
    }
   ],
   "source": [
    "# Start preprocessing\n",
    "\n",
    "from nltk.tokenize import word_tokenize\n",
    "nltk.download('punkt')\n",
    "nltk.download('wordnet')\n",
    "from tqdm import tqdm\n",
    "from spellchecker import SpellChecker\n",
    "\n",
    "punc = '''!()-[]{};:'\"\\,<>./?@#$%^&*_~'''\n",
    "\n",
    "spell = SpellChecker()\n",
    "\n",
    "def preprocessing(data):\n",
    "  data_clean = []\n",
    "  for sentence in tqdm(data):\n",
    "\n",
    "    # Tokenization\n",
    "    tokens = word_tokenize(sentence)\n",
    "\n",
    "    # Remove punctuation and number\n",
    "    tokens = [w for w in tokens if (not w in punc) and (not w.isdigit())]\n",
    "\n",
    "    # Spell check\n",
    "    # Taking too long time for each sentence, not practical to be used\n",
    "    # tokens = [spell.correction(w) for w in tokens]\n",
    "    # tokens = [w for w in tokens if w is not None and len(w) > 0]\n",
    "\n",
    "    # Lemmatization based on tagging\n",
    "    tokens = lemmatize_with_pos(tokens)\n",
    "\n",
    "    data_clean.append((' ').join(tokens))\n",
    "  return data_clean\n",
    "\n",
    "X_train_clean = preprocessing(X_train)\n",
    "X_test_clean = preprocessing(X_test)"
   ]
  },
  {
   "cell_type": "code",
   "execution_count": 79,
   "metadata": {
    "ExecuteTime": {
     "end_time": "2024-03-05T17:04:47.789779Z",
     "start_time": "2024-03-05T17:04:45.983859Z"
    }
   },
   "outputs": [],
   "source": [
    "import csv\n",
    "import pandas as pd\n",
    "\n",
    "def write_to_csv(X_train_clean, X_test_clean):\n",
    "    with open('raw_data/X_train_clean.csv', 'w', newline='', encoding='utf-8') as f:\n",
    "        writer = csv.writer(f)\n",
    "        for doc in X_train_clean:\n",
    "            writer.writerow([doc])\n",
    "\n",
    "    with open('raw_data/X_test_clean.csv', 'w', newline='', encoding='utf-8') as f:\n",
    "        writer = csv.writer(f)\n",
    "        for doc in X_test_clean:\n",
    "            writer.writerow([doc])\n",
    "\n",
    "# Uncomment if you want to save X_train_clean and X_test_clean\n",
    "# write_to_csv(X_train_clean, X_test_clean)"
   ]
  },
  {
   "cell_type": "code",
   "execution_count": 72,
   "metadata": {
    "ExecuteTime": {
     "end_time": "2024-03-05T17:04:53.998277Z",
     "start_time": "2024-03-05T17:04:53.082771Z"
    }
   },
   "outputs": [],
   "source": [
    "def read_from_file():\n",
    "    a_df = pd.read_csv('raw_data/X_train_clean.csv', header=None, dtype=str)\n",
    "    a = a_df[0].values\n",
    "    \n",
    "    b_df = pd.read_csv('raw_data/X_test_clean.csv', header=None, dtype=str)\n",
    "    b = b_df[0].values\n",
    "    return a, b\n",
    "\n",
    "# Uncomment if you want to read from file\n",
    "a, b = read_from_file()\n",
    "X_train_clean, X_test_clean = a, b"
   ]
  },
  {
   "cell_type": "code",
   "execution_count": 75,
   "metadata": {
    "ExecuteTime": {
     "end_time": "2024-03-05T17:05:11.041172Z",
     "start_time": "2024-03-05T17:04:55.869549Z"
    },
    "colab": {
     "base_uri": "https://localhost:8080/"
    },
    "id": "nH-JuFWdzqHa",
    "outputId": "1e641367-5188-4e56-8a83-b04dbde46ec0"
   },
   "outputs": [
    {
     "name": "stdout",
     "output_type": "stream",
     "text": [
      "Training start:  2024-04-12 22:23:18.002467\n",
      "              precision    recall  f1-score   support\n",
      "\n",
      "           1       0.85      0.81      0.83       750\n",
      "           2       0.84      0.42      0.56       750\n",
      "           3       0.59      0.83      0.69       750\n",
      "           4       0.81      0.91      0.86       750\n",
      "\n",
      "    accuracy                           0.74      3000\n",
      "   macro avg       0.77      0.74      0.73      3000\n",
      "weighted avg       0.77      0.74      0.73      3000\n",
      "\n",
      "Training finish:  2024-04-12 22:23:25.734661\n"
     ]
    }
   ],
   "source": [
    "X_train_clean_tfidf, X_test_clean_tfidf = tfidf(X_train_clean, X_test_clean)\n",
    "\n",
    "_ = LR(X_train_clean_tfidf, y_train, X_test_clean_tfidf, y_test)"
   ]
  },
  {
   "cell_type": "code",
   "execution_count": 82,
   "metadata": {
    "ExecuteTime": {
     "end_time": "2024-03-05T17:05:12.655783Z",
     "start_time": "2024-03-05T17:05:12.605867Z"
    },
    "colab": {
     "base_uri": "https://localhost:8080/"
    },
    "id": "Tu2641T-HNd3",
    "outputId": "ba6f10d5-8b1f-4365-be7e-11ca479109bc",
    "scrolled": true
   },
   "outputs": [
    {
     "name": "stdout",
     "output_type": "stream",
     "text": [
      "              precision    recall  f1-score   support\n",
      "\n",
      "           1       0.60      0.61      0.61       750\n",
      "           2       0.65      0.51      0.57       750\n",
      "           3       0.63      0.92      0.75       750\n",
      "           4       0.87      0.64      0.74       750\n",
      "\n",
      "    accuracy                           0.67      3000\n",
      "   macro avg       0.69      0.67      0.67      3000\n",
      "weighted avg       0.69      0.67      0.67      3000\n"
     ]
    }
   ],
   "source": [
    "_ = NB(X_train_clean_tfidf, y_train, X_test_clean_tfidf, y_test)"
   ]
  },
  {
   "cell_type": "code",
   "execution_count": 63,
   "metadata": {},
   "outputs": [],
   "source": [
    "class Word2VecVectorizer:\n",
    "  def __init__(self, model):\n",
    "    print(\"Loading in word vectors...\")\n",
    "    self.word_vectors = model\n",
    "    print(\"Finished loading in word vectors\")\n",
    "\n",
    "  def fit(self, data):\n",
    "    pass\n",
    "\n",
    "  def transform(self, data):\n",
    "    # determine the dimensionality of vectors\n",
    "    v = self.word_vectors.get_vector('queen')\n",
    "    self.D = v.shape[0]\n",
    "\n",
    "    X = np.zeros((len(data), self.D*3))\n",
    "    n = 0\n",
    "    emptycount = 0\n",
    "    for sentence in tqdm(data):\n",
    "      tokens = nltk.word_tokenize(sentence.lower())\n",
    "      vecs = []\n",
    "      m = 0\n",
    "      for word in tokens:\n",
    "        try:\n",
    "          # throws KeyError if word not found\n",
    "          vec = self.word_vectors.get_vector(word)\n",
    "          vecs.append(vec)\n",
    "          m += 1\n",
    "        except KeyError:\n",
    "          pass\n",
    "      if len(vecs) > 0:\n",
    "        vecs = np.array(vecs)\n",
    "        X[n] = np.concatenate((vecs.mean(axis=0), vecs.min(axis=0), vecs.max(axis=0)))\n",
    "      else:\n",
    "        emptycount += 1\n",
    "      n += 1\n",
    "    print(\"Number of samples with no words found: %s / %s\" % (emptycount, len(data)))\n",
    "    return X\n",
    "\n",
    "\n",
    "  def fit_transform(self, data):\n",
    "    self.fit(data)\n",
    "    return self.transform(data)"
   ]
  },
  {
   "cell_type": "code",
   "execution_count": 64,
   "metadata": {},
   "outputs": [
    {
     "name": "stdout",
     "output_type": "stream",
     "text": [
      "Loading in word vectors...\n",
      "Finished loading in word vectors\n"
     ]
    },
    {
     "name": "stderr",
     "output_type": "stream",
     "text": [
      "100%|█████████████████████████████████████████████████████████████████████████| 48854/48854 [03:25<00:00, 237.16it/s]"
     ]
    },
    {
     "name": "stdout",
     "output_type": "stream",
     "text": [
      "Number of samples with no words found: 2 / 48854\n"
     ]
    },
    {
     "name": "stderr",
     "output_type": "stream",
     "text": [
      "\n"
     ]
    }
   ],
   "source": [
    "word2vec_vectorizer = Word2VecVectorizer(word2vec_model)\n",
    "X_train_word2vec = word2vec_vectorizer.fit_transform(X_train)"
   ]
  },
  {
   "cell_type": "code",
   "execution_count": 67,
   "metadata": {},
   "outputs": [
    {
     "name": "stderr",
     "output_type": "stream",
     "text": [
      "100%|███████████████████████████████████████████████████████████████████████████| 3000/3000 [00:11<00:00, 261.44it/s]"
     ]
    },
    {
     "name": "stdout",
     "output_type": "stream",
     "text": [
      "Number of samples with no words found: 0 / 3000\n"
     ]
    },
    {
     "name": "stderr",
     "output_type": "stream",
     "text": [
      "\n"
     ]
    }
   ],
   "source": [
    "# apply to test\n",
    "X_test_word2vec = word2vec_vectorizer.fit_transform(X_test)"
   ]
  },
  {
   "cell_type": "code",
   "execution_count": 76,
   "metadata": {},
   "outputs": [
    {
     "name": "stdout",
     "output_type": "stream",
     "text": [
      "(48854, 10000)\n",
      "(48854, 300)\n",
      "(48854, 10300)\n"
     ]
    }
   ],
   "source": [
    "X_train_combined = np.concatenate((X_train_clean_tfidf.toarray(), X_train_word2vec), axis=1)\n",
    "# X_train_combined =  X_train_word2vec\n",
    "print(X_train_clean_tfidf.shape)\n",
    "print(X_train_word2vec.shape)\n",
    "print(X_train_combined.shape)\n",
    "\n",
    "X_test_combined = np.concatenate((X_test_clean_tfidf.toarray(), X_test_word2vec), axis=1)\n",
    "# X_test_combined =  X_test_word2vec"
   ]
  },
  {
   "cell_type": "markdown",
   "metadata": {},
   "source": [
    "## NN"
   ]
  },
  {
   "cell_type": "markdown",
   "metadata": {},
   "source": [
    "### Approach 1:\n",
    "\n",
    "### td-idf + glove embedding"
   ]
  },
  {
   "cell_type": "code",
   "execution_count": 81,
   "metadata": {
    "scrolled": true
   },
   "outputs": [
    {
     "name": "stdout",
     "output_type": "stream",
     "text": [
      "Model: \"sequential_4\"\n",
      "_________________________________________________________________\n",
      " Layer (type)                Output Shape              Param #   \n",
      "=================================================================\n",
      " dense_9 (Dense)             (None, 256)               2637056   \n",
      "                                                                 \n",
      " dropout_6 (Dropout)         (None, 256)               0         \n",
      "                                                                 \n",
      " dense_10 (Dense)            (None, 128)               32896     \n",
      "                                                                 \n",
      " dropout_7 (Dropout)         (None, 128)               0         \n",
      "                                                                 \n",
      " dense_11 (Dense)            (None, 4)                 516       \n",
      "                                                                 \n",
      "=================================================================\n",
      "Total params: 2670468 (10.19 MB)\n",
      "Trainable params: 2670468 (10.19 MB)\n",
      "Non-trainable params: 0 (0.00 Byte)\n",
      "_________________________________________________________________\n",
      "Epoch 1/10\n",
      "1526/1527 [============================>.] - ETA: 0s - loss: 0.6369 - accuracy: 0.7446 - f1_score: 0.7185INFO:tensorflow:Assets written to: checkpoint_model_nn1/assets\n"
     ]
    },
    {
     "name": "stderr",
     "output_type": "stream",
     "text": [
      "INFO:tensorflow:Assets written to: checkpoint_model_nn1/assets\n"
     ]
    },
    {
     "name": "stdout",
     "output_type": "stream",
     "text": [
      "1527/1527 [==============================] - 40s 26ms/step - loss: 0.6368 - accuracy: 0.7446 - f1_score: 0.7186 - val_loss: 1.1281 - val_accuracy: 0.6380 - val_f1_score: 0.6197\n",
      "Epoch 2/10\n",
      "1526/1527 [============================>.] - ETA: 0s - loss: 0.2122 - accuracy: 0.9258 - f1_score: 0.9197INFO:tensorflow:Assets written to: checkpoint_model_nn1/assets\n"
     ]
    },
    {
     "name": "stderr",
     "output_type": "stream",
     "text": [
      "INFO:tensorflow:Assets written to: checkpoint_model_nn1/assets\n"
     ]
    },
    {
     "name": "stdout",
     "output_type": "stream",
     "text": [
      "1527/1527 [==============================] - 37s 24ms/step - loss: 0.2122 - accuracy: 0.9258 - f1_score: 0.9197 - val_loss: 0.7475 - val_accuracy: 0.7430 - val_f1_score: 0.7392\n",
      "Epoch 3/10\n",
      "1527/1527 [==============================] - 38s 25ms/step - loss: 0.1421 - accuracy: 0.9503 - f1_score: 0.9468 - val_loss: 0.8309 - val_accuracy: 0.7280 - val_f1_score: 0.7245\n",
      "Epoch 4/10\n",
      "1527/1527 [==============================] - 38s 25ms/step - loss: 0.1116 - accuracy: 0.9616 - f1_score: 0.9591 - val_loss: 1.1550 - val_accuracy: 0.6730 - val_f1_score: 0.6631\n",
      "Epoch 5/10\n",
      "1525/1527 [============================>.] - ETA: 0s - loss: 0.0912 - accuracy: 0.9679 - f1_score: 0.9659INFO:tensorflow:Assets written to: checkpoint_model_nn1/assets\n"
     ]
    },
    {
     "name": "stderr",
     "output_type": "stream",
     "text": [
      "INFO:tensorflow:Assets written to: checkpoint_model_nn1/assets\n"
     ]
    },
    {
     "name": "stdout",
     "output_type": "stream",
     "text": [
      "1527/1527 [==============================] - 38s 25ms/step - loss: 0.0912 - accuracy: 0.9679 - f1_score: 0.9659 - val_loss: 0.8959 - val_accuracy: 0.7567 - val_f1_score: 0.7492\n",
      "Epoch 6/10\n",
      "1527/1527 [==============================] - 38s 25ms/step - loss: 0.0800 - accuracy: 0.9728 - f1_score: 0.9711 - val_loss: 1.3412 - val_accuracy: 0.7123 - val_f1_score: 0.6922\n",
      "Epoch 7/10\n",
      "1527/1527 [==============================] - 39s 25ms/step - loss: 0.0708 - accuracy: 0.9755 - f1_score: 0.9740 - val_loss: 1.2963 - val_accuracy: 0.7183 - val_f1_score: 0.6946\n",
      "Epoch 8/10\n",
      "1527/1527 [==============================] - 39s 25ms/step - loss: 0.0627 - accuracy: 0.9785 - f1_score: 0.9773 - val_loss: 0.9285 - val_accuracy: 0.7493 - val_f1_score: 0.7414\n",
      "Epoch 9/10\n",
      "1526/1527 [============================>.] - ETA: 0s - loss: 0.0553 - accuracy: 0.9815 - f1_score: 0.9803INFO:tensorflow:Assets written to: checkpoint_model_nn1/assets\n"
     ]
    },
    {
     "name": "stderr",
     "output_type": "stream",
     "text": [
      "INFO:tensorflow:Assets written to: checkpoint_model_nn1/assets\n"
     ]
    },
    {
     "name": "stdout",
     "output_type": "stream",
     "text": [
      "1527/1527 [==============================] - 41s 27ms/step - loss: 0.0553 - accuracy: 0.9815 - f1_score: 0.9803 - val_loss: 0.8824 - val_accuracy: 0.7753 - val_f1_score: 0.7726\n",
      "Epoch 10/10\n",
      "1527/1527 [==============================] - 39s 26ms/step - loss: 0.0512 - accuracy: 0.9820 - f1_score: 0.9808 - val_loss: 1.0534 - val_accuracy: 0.7413 - val_f1_score: 0.7374\n"
     ]
    },
    {
     "name": "stderr",
     "output_type": "stream",
     "text": [
      "2024-04-12 22:49:35.528031: W tensorflow/core/util/tensor_slice_reader.cc:98] Could not open checkpoint_model_nn1: FAILED_PRECONDITION: checkpoint_model_nn1; Is a directory: perhaps your file is in a different file format and you need to use a different restore operator?\n"
     ]
    },
    {
     "name": "stdout",
     "output_type": "stream",
     "text": [
      "94/94 [==============================] - 0s 3ms/step\n",
      "              precision    recall  f1-score   support\n",
      "\n",
      "           1       0.84      0.79      0.81       750\n",
      "           2       0.74      0.58      0.65       750\n",
      "           3       0.67      0.82      0.74       750\n",
      "           4       0.87      0.91      0.89       750\n",
      "\n",
      "    accuracy                           0.78      3000\n",
      "   macro avg       0.78      0.78      0.77      3000\n",
      "weighted avg       0.78      0.78      0.77      3000\n",
      "\n"
     ]
    }
   ],
   "source": [
    "import keras\n",
    "from keras.models import Sequential\n",
    "from keras.layers import Dense, Dropout\n",
    "from keras.optimizers import Adam,Adagrad\n",
    "import tensorflow_addons as tfa\n",
    "from keras import regularizers\n",
    "\n",
    "epochs = 10\n",
    "\n",
    "model = Sequential()\n",
    "model.add(Dense(256, activation='sigmoid', input_shape=(X_train_combined.shape[1],)))\n",
    "model.add(Dropout(0.5))\n",
    "# model.add(Dense(128, activation='relu'))\n",
    "# model.add(Dropout(0.5))\n",
    "model.add(Dense(128, activation='sigmoid'))\n",
    "model.add(Dropout(0.5))\n",
    "model.add(Dense(4, activation='softmax'))\n",
    "\n",
    "model.compile(loss='categorical_crossentropy',\n",
    "                optimizer=Adam(learning_rate=0.001),\n",
    "                metrics=['accuracy', tfa.metrics.F1Score(average='macro',num_classes=4)])\n",
    "model.summary()\n",
    "\n",
    "checkpoint_filepath = 'checkpoint_model_nn1'\n",
    "model_checkpoint_callback = keras.callbacks.ModelCheckpoint(\n",
    "    filepath=checkpoint_filepath,\n",
    "    monitor='val_f1_score',\n",
    "    mode='max',\n",
    "    save_best_only=True)\n",
    "\n",
    "model.fit(X_train_combined, y_train_labeled, epochs=epochs, validation_data=(X_test_combined, y_test_labeled),\\\n",
    "          callbacks=[model_checkpoint_callback])\n",
    "\n",
    "model.load_weights(checkpoint_filepath)\n",
    "\n",
    "y_pred = model.predict(X_test_combined)\n",
    "\n",
    "y_pred_inverse = one_hot_encoder.inverse_transform(y_pred)\n",
    "\n",
    "print(classification_report(y_test, y_pred_inverse))\n"
   ]
  },
  {
   "cell_type": "code",
   "execution_count": 90,
   "metadata": {},
   "outputs": [
    {
     "data": {
      "text/plain": [
       "<tf.Tensor: shape=(3000, 128), dtype=float32, numpy=\n",
       "array([[0.00110151, 0.8386019 , 0.90150696, ..., 0.23704822, 0.0017399 ,\n",
       "        0.00120609],\n",
       "       [0.00395824, 0.81317914, 0.8740999 , ..., 0.21737298, 0.00104289,\n",
       "        0.00431592],\n",
       "       [0.03128602, 0.6159007 , 0.4279891 , ..., 0.35501117, 0.00111151,\n",
       "        0.03165342],\n",
       "       ...,\n",
       "       [0.25903714, 0.04194087, 0.04392021, ..., 0.00470304, 0.00767467,\n",
       "        0.33156297],\n",
       "       [0.6086316 , 0.04851189, 0.01383203, ..., 0.01982741, 0.00897613,\n",
       "        0.61016136],\n",
       "       [0.1505597 , 0.02509742, 0.01740577, ..., 0.00660846, 0.15116191,\n",
       "        0.1859482 ]], dtype=float32)>"
      ]
     },
     "execution_count": 90,
     "metadata": {},
     "output_type": "execute_result"
    }
   ],
   "source": [
    "layer_name = 'dense_10'\n",
    "intermediate_layer_model = keras.Model(inputs=model.input,\n",
    "                                       outputs=model.get_layer(layer_name).output)\n",
    "intermediate_output = intermediate_layer_model(X_test_combined)\n",
    "intermediate_output"
   ]
  },
  {
   "cell_type": "code",
   "execution_count": 107,
   "metadata": {},
   "outputs": [
    {
     "name": "stderr",
     "output_type": "stream",
     "text": [
      "/Library/Frameworks/Python.framework/Versions/3.10/lib/python3.10/site-packages/seaborn/_oldcore.py:1498: FutureWarning: is_categorical_dtype is deprecated and will be removed in a future version. Use isinstance(dtype, CategoricalDtype) instead\n",
      "  if pd.api.types.is_categorical_dtype(vector):\n",
      "/Library/Frameworks/Python.framework/Versions/3.10/lib/python3.10/site-packages/seaborn/_oldcore.py:1498: FutureWarning: is_categorical_dtype is deprecated and will be removed in a future version. Use isinstance(dtype, CategoricalDtype) instead\n",
      "  if pd.api.types.is_categorical_dtype(vector):\n",
      "/Library/Frameworks/Python.framework/Versions/3.10/lib/python3.10/site-packages/seaborn/_oldcore.py:1498: FutureWarning: is_categorical_dtype is deprecated and will be removed in a future version. Use isinstance(dtype, CategoricalDtype) instead\n",
      "  if pd.api.types.is_categorical_dtype(vector):\n",
      "/Library/Frameworks/Python.framework/Versions/3.10/lib/python3.10/site-packages/seaborn/_oldcore.py:1498: FutureWarning: is_categorical_dtype is deprecated and will be removed in a future version. Use isinstance(dtype, CategoricalDtype) instead\n",
      "  if pd.api.types.is_categorical_dtype(vector):\n"
     ]
    },
    {
     "data": {
      "text/plain": [
       "<matplotlib.legend.Legend at 0x1686cda50>"
      ]
     },
     "execution_count": 107,
     "metadata": {},
     "output_type": "execute_result"
    },
    {
     "data": {
      "image/png": "[encoded data removed]",
      "text/plain": [
       "<Figure size 576x576 with 1 Axes>"
      ]
     },
     "metadata": {
      "needs_background": "light"
     },
     "output_type": "display_data"
    }
   ],
   "source": [
    "from sklearn.manifold import TSNE\n",
    "import pandas as pd\n",
    "import seaborn as sns\n",
    " \n",
    "# We want to get TSNE embedding with 2 dimensions\n",
    "n_components = 2\n",
    "tsne = TSNE(n_components)\n",
    "tsne_result = tsne.fit_transform(intermediate_output)\n",
    "tsne_result.shape\n",
    "# (3000, 2)\n",
    "# Two dimensions for each of our images\n",
    " \n",
    "# Plot the result of our TSNE with the label color coded\n",
    "# A lot of the stuff here is about making the plot look pretty and not TSNE\n",
    "tsne_result_df = pd.DataFrame({'tsne_1': tsne_result[:,0], 'tsne_2': tsne_result[:,1], 'label': y_test})\n",
    "fig, ax = plt.subplots(figsize=(8, 8))\n",
    "sns.scatterplot(x='tsne_1', y='tsne_2', hue='label', palette=\"Set2\", data=tsne_result_df, ax=ax,s=40)\n",
    "lim = (tsne_result.min()-5, tsne_result.max()+5)\n",
    "ax.set_xlim(lim)\n",
    "ax.set_ylim(lim)\n",
    "ax.set_aspect('equal')\n",
    "ax.legend(bbox_to_anchor=(1.05, 1), loc=2, borderaxespad=0.0)"
   ]
  },
  {
   "cell_type": "code",
   "execution_count": 82,
   "metadata": {},
   "outputs": [
    {
     "name": "stdout",
     "output_type": "stream",
     "text": [
      "1527/1527 [==============================] - 6s 4ms/step\n",
      "Confusion matrix for training dataset\n",
      " [[14007    16    23     1]\n",
      " [    3  6934     5     0]\n",
      " [   22    41 17803     4]\n",
      " [  209     9    34  9743]]\n"
     ]
    },
    {
     "data": {
      "image/png": "[encoded data removed]",
      "text/plain": [
       "<Figure size 432x288 with 2 Axes>"
      ]
     },
     "metadata": {
      "needs_background": "light"
     },
     "output_type": "display_data"
    }
   ],
   "source": [
    "from sklearn.metrics import confusion_matrix\n",
    "import seaborn as sns\n",
    "import matplotlib.pyplot as plt\n",
    "\n",
    "y_pred = model.predict(X_train_combined)\n",
    "y_pred_inverse = one_hot_encoder.inverse_transform(y_pred)\n",
    "cm = confusion_matrix(y_train, y_pred_inverse)\n",
    "\n",
    "print('Confusion matrix for training dataset\\n', cm)\n",
    "\n",
    "cm_matrix = pd.DataFrame(data=cm, columns=['Predicted 1', 'Predicted 2', 'Predicted 3' ,'Predicted 4'], \n",
    "                        index=['Actual 1', 'Actual 2', 'Actual 3' ,'Actual 4'])\n",
    "sns.heatmap(cm_matrix, annot=True, fmt='d', cmap='YlGnBu')\n",
    "plt.show()"
   ]
  },
  {
   "cell_type": "code",
   "execution_count": 83,
   "metadata": {},
   "outputs": [
    {
     "name": "stdout",
     "output_type": "stream",
     "text": [
      "94/94 [==============================] - 0s 3ms/step\n",
      "Confusion matrix for testing dataset\n",
      " [[594 136  15   5]\n",
      " [ 35 435 266  14]\n",
      " [ 43  12 612  83]\n",
      " [ 37   8  20 685]]\n"
     ]
    },
    {
     "data": {
      "image/png": "[encoded data removed]",
      "text/plain": [
       "<Figure size 432x288 with 2 Axes>"
      ]
     },
     "metadata": {
      "needs_background": "light"
     },
     "output_type": "display_data"
    }
   ],
   "source": [
    "y_pred = model.predict(X_test_combined)\n",
    "y_pred_inverse = one_hot_encoder.inverse_transform(y_pred)\n",
    "cm = confusion_matrix(y_test, y_pred_inverse)\n",
    "\n",
    "print('Confusion matrix for testing dataset\\n', cm)\n",
    "\n",
    "cm_matrix = pd.DataFrame(data=cm, columns=['Predicted 1', 'Predicted 2', 'Predicted 3' ,'Predicted 4'], \n",
    "                        index=['Actual 1', 'Actual 2', 'Actual 3' ,'Actual 4'])\n",
    "sns.heatmap(cm_matrix, annot=True, fmt='d', cmap='YlGnBu')\n",
    "plt.show()"
   ]
  },
  {
   "cell_type": "markdown",
   "metadata": {},
   "source": [
    "### Approach 2:\n",
    "\n",
    "### Use Keras embedding layer + glove embedding weights"
   ]
  },
  {
   "cell_type": "code",
   "execution_count": 4,
   "metadata": {},
   "outputs": [
    {
     "name": "stderr",
     "output_type": "stream",
     "text": [
      "100%|█████████████████████████████████████████████████████████████████████████| 48854/48854 [02:28<00:00, 328.76it/s]\n"
     ]
    }
   ],
   "source": [
    "from nltk.tokenize import word_tokenize\n",
    "\n",
    "len_list = []\n",
    "for d in tqdm(X_train):\n",
    "    len_list.append(len(word_tokenize(d)))"
   ]
  },
  {
   "cell_type": "code",
   "execution_count": 60,
   "metadata": {},
   "outputs": [
    {
     "data": {
      "image/png": "[encoded data removed]",
      "text/plain": [
       "<Figure size 720x432 with 1 Axes>"
      ]
     },
     "metadata": {
      "needs_background": "light"
     },
     "output_type": "display_data"
    },
    {
     "name": "stdout",
     "output_type": "stream",
     "text": [
      "83 percentile:  1004.0\n"
     ]
    },
    {
     "data": {
      "text/html": [
       "<div>\n",
       "<style scoped>\n",
       "    .dataframe tbody tr th:only-of-type {\n",
       "        vertical-align: middle;\n",
       "    }\n",
       "\n",
       "    .dataframe tbody tr th {\n",
       "        vertical-align: top;\n",
       "    }\n",
       "\n",
       "    .dataframe thead th {\n",
       "        text-align: right;\n",
       "    }\n",
       "</style>\n",
       "<table border=\"1\" class=\"dataframe\">\n",
       "  <thead>\n",
       "    <tr style=\"text-align: right;\">\n",
       "      <th></th>\n",
       "      <th>all classes</th>\n",
       "      <th>class 1</th>\n",
       "      <th>class 2</th>\n",
       "      <th>class 3</th>\n",
       "      <th>class 4</th>\n",
       "    </tr>\n",
       "  </thead>\n",
       "  <tbody>\n",
       "    <tr>\n",
       "      <th>count</th>\n",
       "      <td>48854.000000</td>\n",
       "      <td>14047.000000</td>\n",
       "      <td>6942.000000</td>\n",
       "      <td>17870.000000</td>\n",
       "      <td>9995.000000</td>\n",
       "    </tr>\n",
       "    <tr>\n",
       "      <th>mean</th>\n",
       "      <td>604.384104</td>\n",
       "      <td>338.721364</td>\n",
       "      <td>216.720542</td>\n",
       "      <td>1018.812759</td>\n",
       "      <td>506.043422</td>\n",
       "    </tr>\n",
       "    <tr>\n",
       "      <th>std</th>\n",
       "      <td>1071.811433</td>\n",
       "      <td>294.862339</td>\n",
       "      <td>89.790755</td>\n",
       "      <td>1638.129072</td>\n",
       "      <td>411.558255</td>\n",
       "    </tr>\n",
       "    <tr>\n",
       "      <th>min</th>\n",
       "      <td>2.000000</td>\n",
       "      <td>2.000000</td>\n",
       "      <td>2.000000</td>\n",
       "      <td>2.000000</td>\n",
       "      <td>2.000000</td>\n",
       "    </tr>\n",
       "    <tr>\n",
       "      <th>25%</th>\n",
       "      <td>161.000000</td>\n",
       "      <td>139.000000</td>\n",
       "      <td>162.000000</td>\n",
       "      <td>285.250000</td>\n",
       "      <td>219.000000</td>\n",
       "    </tr>\n",
       "    <tr>\n",
       "      <th>50%</th>\n",
       "      <td>307.000000</td>\n",
       "      <td>184.000000</td>\n",
       "      <td>207.000000</td>\n",
       "      <td>765.000000</td>\n",
       "      <td>389.000000</td>\n",
       "    </tr>\n",
       "    <tr>\n",
       "      <th>75%</th>\n",
       "      <td>799.000000</td>\n",
       "      <td>615.000000</td>\n",
       "      <td>259.000000</td>\n",
       "      <td>1341.000000</td>\n",
       "      <td>705.000000</td>\n",
       "    </tr>\n",
       "    <tr>\n",
       "      <th>max</th>\n",
       "      <td>131926.000000</td>\n",
       "      <td>2465.000000</td>\n",
       "      <td>2654.000000</td>\n",
       "      <td>131926.000000</td>\n",
       "      <td>5215.000000</td>\n",
       "    </tr>\n",
       "  </tbody>\n",
       "</table>\n",
       "</div>"
      ],
      "text/plain": [
       "         all classes       class 1      class 2        class 3      class 4\n",
       "count   48854.000000  14047.000000  6942.000000   17870.000000  9995.000000\n",
       "mean      604.384104    338.721364   216.720542    1018.812759   506.043422\n",
       "std      1071.811433    294.862339    89.790755    1638.129072   411.558255\n",
       "min         2.000000      2.000000     2.000000       2.000000     2.000000\n",
       "25%       161.000000    139.000000   162.000000     285.250000   219.000000\n",
       "50%       307.000000    184.000000   207.000000     765.000000   389.000000\n",
       "75%       799.000000    615.000000   259.000000    1341.000000   705.000000\n",
       "max    131926.000000   2465.000000  2654.000000  131926.000000  5215.000000"
      ]
     },
     "execution_count": 60,
     "metadata": {},
     "output_type": "execute_result"
    }
   ],
   "source": [
    "import matplotlib.pyplot as plt\n",
    "import pandas as pd\n",
    "import numpy as np\n",
    "\n",
    "\n",
    "df = pd.DataFrame(list(zip(len_list, y_train)),\n",
    "               columns =['length', 'class'])\n",
    "\n",
    "arr1 = df.loc[df['class'] == 1]['length']\n",
    "arr2 = df.loc[df['class'] == 2]['length']\n",
    "arr3 = df.loc[df['class'] == 3]['length']\n",
    "arr4 = df.loc[df['class'] == 4]['length']\n",
    "\n",
    "fig, ax1 = plt.subplots(figsize=(10, 6)) \n",
    "plt.yticks(fontsize=16)\n",
    "# Creating plot\n",
    "\n",
    "ax1.boxplot([len_list, arr1, arr2, arr3, arr4], showfliers=False)\n",
    "ax1.set_xticklabels(['all classes', 'class 1','class 2','class 3','class 4'], fontsize=16)\n",
    "# show plot\n",
    "plt.show()\n",
    "\n",
    "\n",
    "df_describe = pd.concat([pd.DataFrame(len_list).describe(), \\\n",
    "                         pd.DataFrame(arr1).describe(), \\\n",
    "                         pd.DataFrame(arr2).describe(), \\\n",
    "                         pd.DataFrame(arr3).describe(), \\\n",
    "                         pd.DataFrame(arr4).describe()], axis=1)\n",
    "df_describe.columns = ['all classes', 'class 1','class 2','class 3','class 4']\n",
    "print(\"83 percentile: \",np.percentile(len_list, 83))\n",
    "\n",
    "df_describe"
   ]
  },
  {
   "cell_type": "code",
   "execution_count": 140,
   "metadata": {},
   "outputs": [],
   "source": [
    "from keras import layers\n",
    "\n",
    "max_length=1000\n",
    "vectorizer = layers.TextVectorization(max_tokens=20000, output_sequence_length=max_length)\n",
    "vectorizer.adapt(X_train)"
   ]
  },
  {
   "cell_type": "code",
   "execution_count": 141,
   "metadata": {},
   "outputs": [],
   "source": [
    "voc = vectorizer.get_vocabulary()\n",
    "word_index = dict(zip(voc, range(len(voc))))"
   ]
  },
  {
   "cell_type": "code",
   "execution_count": 142,
   "metadata": {},
   "outputs": [],
   "source": [
    "X_train_vector=vectorizer(X_train)\n",
    "X_test_vector=vectorizer(X_test)"
   ]
  },
  {
   "cell_type": "code",
   "execution_count": 143,
   "metadata": {},
   "outputs": [
    {
     "name": "stdout",
     "output_type": "stream",
     "text": [
      "(48854, 1000)\n",
      "tf.Tensor(\n",
      "[[   6  226  310 ...    0    0    0]\n",
      " [   2 3946    4 ...    0    0    0]], shape=(2, 1000), dtype=int64)\n"
     ]
    }
   ],
   "source": [
    "print(X_train_vector.shape)\n",
    "print(X_train_vector[:2])"
   ]
  },
  {
   "cell_type": "code",
   "execution_count": 113,
   "metadata": {},
   "outputs": [
    {
     "name": "stdout",
     "output_type": "stream",
     "text": [
      "Found 400000 word vectors.\n"
     ]
    }
   ],
   "source": [
    "embedding_dim = 100\n",
    "\n",
    "glove_filename='glove.6B.' + str(embedding_dim) + 'd.txt'\n",
    "glove_path = os.path.abspath(os.path.join('.', glove_filename))\n",
    "\n",
    "embeddings_index = {}\n",
    "with open(glove_path) as f:\n",
    "    for line in f:\n",
    "        word, coefs = line.split(maxsplit=1)\n",
    "        coefs = np.fromstring(coefs, \"f\", sep=\" \")\n",
    "        embeddings_index[word] = coefs\n",
    "\n",
    "print(\"Found %s word vectors.\" % len(embeddings_index))"
   ]
  },
  {
   "cell_type": "code",
   "execution_count": 114,
   "metadata": {},
   "outputs": [
    {
     "name": "stdout",
     "output_type": "stream",
     "text": [
      "Converted 19415 words (585 misses)\n"
     ]
    }
   ],
   "source": [
    "num_tokens = len(voc) + 2\n",
    "hits = 0\n",
    "misses = 0\n",
    "\n",
    "# Prepare embedding matrix\n",
    "embedding_matrix = np.zeros((num_tokens, embedding_dim))\n",
    "for word, i in word_index.items():\n",
    "    embedding_vector = embeddings_index.get(word)\n",
    "    if embedding_vector is not None:\n",
    "        # Words not found in embedding index will be all-zeros.\n",
    "        # This includes the representation for \"padding\" and \"OOV\"\n",
    "        embedding_matrix[i] = embedding_vector\n",
    "        hits += 1\n",
    "    else:\n",
    "        misses += 1\n",
    "print(\"Converted %d words (%d misses)\" % (hits, misses))"
   ]
  },
  {
   "cell_type": "code",
   "execution_count": 107,
   "metadata": {},
   "outputs": [
    {
     "name": "stdout",
     "output_type": "stream",
     "text": [
      "(20002, 200)\n"
     ]
    }
   ],
   "source": [
    "print(embedding_matrix.shape)"
   ]
  },
  {
   "cell_type": "code",
   "execution_count": 177,
   "metadata": {},
   "outputs": [
    {
     "name": "stdout",
     "output_type": "stream",
     "text": [
      "Model: \"sequential_64\"\n",
      "_________________________________________________________________\n",
      " Layer (type)                Output Shape              Param #   \n",
      "=================================================================\n",
      " embedding_60 (Embedding)    (None, 1000, 100)         2000200   \n",
      "                                                                 \n",
      " global_average_pooling1d_3  (None, 100)               0         \n",
      " 9 (GlobalAveragePooling1D)                                      \n",
      "                                                                 \n",
      " dense_192 (Dense)           (None, 64)                6464      \n",
      "                                                                 \n",
      " dropout_130 (Dropout)       (None, 64)                0         \n",
      "                                                                 \n",
      " dense_193 (Dense)           (None, 32)                2080      \n",
      "                                                                 \n",
      " dropout_131 (Dropout)       (None, 32)                0         \n",
      "                                                                 \n",
      " dense_194 (Dense)           (None, 4)                 132       \n",
      "                                                                 \n",
      "=================================================================\n",
      "Total params: 2008876 (7.66 MB)\n",
      "Trainable params: 2008876 (7.66 MB)\n",
      "Non-trainable params: 0 (0.00 Byte)\n",
      "_________________________________________________________________\n",
      "Epoch 1/10\n",
      "1527/1527 [==============================] - ETA: 0s - loss: 0.7056 - accuracy: 0.7277 - f1_score: 0.6774INFO:tensorflow:Assets written to: checkpoint_model_nn2/assets\n"
     ]
    },
    {
     "name": "stderr",
     "output_type": "stream",
     "text": [
      "INFO:tensorflow:Assets written to: checkpoint_model_nn2/assets\n"
     ]
    },
    {
     "name": "stdout",
     "output_type": "stream",
     "text": [
      "1527/1527 [==============================] - 33s 21ms/step - loss: 0.7056 - accuracy: 0.7277 - f1_score: 0.6774 - val_loss: 0.9390 - val_accuracy: 0.7190 - val_f1_score: 0.7018\n",
      "Epoch 2/10\n",
      "1525/1527 [============================>.] - ETA: 0s - loss: 0.2428 - accuracy: 0.9286 - f1_score: 0.9226INFO:tensorflow:Assets written to: checkpoint_model_nn2/assets\n"
     ]
    },
    {
     "name": "stderr",
     "output_type": "stream",
     "text": [
      "INFO:tensorflow:Assets written to: checkpoint_model_nn2/assets\n"
     ]
    },
    {
     "name": "stdout",
     "output_type": "stream",
     "text": [
      "1527/1527 [==============================] - 31s 20ms/step - loss: 0.2427 - accuracy: 0.9286 - f1_score: 0.9226 - val_loss: 0.9268 - val_accuracy: 0.7527 - val_f1_score: 0.7439\n",
      "Epoch 3/10\n",
      "1527/1527 [==============================] - 31s 20ms/step - loss: 0.1546 - accuracy: 0.9559 - f1_score: 0.9529 - val_loss: 1.4200 - val_accuracy: 0.7273 - val_f1_score: 0.7012\n",
      "Epoch 4/10\n",
      "1527/1527 [==============================] - 31s 20ms/step - loss: 0.1127 - accuracy: 0.9685 - f1_score: 0.9665 - val_loss: 1.5938 - val_accuracy: 0.7287 - val_f1_score: 0.7100\n",
      "Epoch 5/10\n",
      "1527/1527 [==============================] - 30s 20ms/step - loss: 0.0892 - accuracy: 0.9744 - f1_score: 0.9732 - val_loss: 1.5465 - val_accuracy: 0.7427 - val_f1_score: 0.7312\n",
      "Epoch 6/10\n",
      "1525/1527 [============================>.] - ETA: 0s - loss: 0.0776 - accuracy: 0.9783 - f1_score: 0.9773INFO:tensorflow:Assets written to: checkpoint_model_nn2/assets\n"
     ]
    },
    {
     "name": "stderr",
     "output_type": "stream",
     "text": [
      "INFO:tensorflow:Assets written to: checkpoint_model_nn2/assets\n"
     ]
    },
    {
     "name": "stdout",
     "output_type": "stream",
     "text": [
      "1527/1527 [==============================] - 31s 20ms/step - loss: 0.0777 - accuracy: 0.9783 - f1_score: 0.9773 - val_loss: 1.4777 - val_accuracy: 0.7640 - val_f1_score: 0.7575\n",
      "Epoch 7/10\n",
      "1527/1527 [==============================] - 31s 20ms/step - loss: 0.0655 - accuracy: 0.9823 - f1_score: 0.9814 - val_loss: 2.2288 - val_accuracy: 0.7410 - val_f1_score: 0.7271\n",
      "Epoch 8/10\n",
      "1527/1527 [==============================] - 31s 20ms/step - loss: 0.0596 - accuracy: 0.9839 - f1_score: 0.9832 - val_loss: 2.0459 - val_accuracy: 0.7607 - val_f1_score: 0.7509\n",
      "Epoch 9/10\n",
      "1527/1527 [==============================] - 33s 22ms/step - loss: 0.0527 - accuracy: 0.9855 - f1_score: 0.9851 - val_loss: 2.9110 - val_accuracy: 0.7297 - val_f1_score: 0.7076\n",
      "Epoch 10/10\n",
      "1527/1527 [==============================] - 32s 21ms/step - loss: 0.0458 - accuracy: 0.9871 - f1_score: 0.9865 - val_loss: 2.0694 - val_accuracy: 0.7513 - val_f1_score: 0.7473\n",
      "13/94 [===>..........................] - ETA: 0s"
     ]
    },
    {
     "name": "stderr",
     "output_type": "stream",
     "text": [
      "2024-03-31 00:29:11.189565: W tensorflow/core/util/tensor_slice_reader.cc:98] Could not open checkpoint_model_nn2: FAILED_PRECONDITION: checkpoint_model_nn2; Is a directory: perhaps your file is in a different file format and you need to use a different restore operator?\n"
     ]
    },
    {
     "name": "stdout",
     "output_type": "stream",
     "text": [
      "94/94 [==============================] - 0s 4ms/step\n",
      "              precision    recall  f1-score   support\n",
      "\n",
      "           1       0.86      0.86      0.86       750\n",
      "           2       0.80      0.49      0.61       750\n",
      "           3       0.63      0.80      0.70       750\n",
      "           4       0.81      0.90      0.85       750\n",
      "\n",
      "    accuracy                           0.76      3000\n",
      "   macro avg       0.78      0.76      0.76      3000\n",
      "weighted avg       0.78      0.76      0.76      3000\n",
      "\n"
     ]
    }
   ],
   "source": [
    "import keras\n",
    "from keras.layers import Flatten,Embedding,GlobalAveragePooling1D\n",
    "from keras.models import Sequential\n",
    "from keras.layers import Dense, Dropout\n",
    "from keras.optimizers import Adam,Adagrad\n",
    "import tensorflow_addons as tfa\n",
    "\n",
    "epochs = 10\n",
    "\n",
    "# define the model\n",
    "model2 = Sequential()\n",
    "model2.add(Embedding(num_tokens, embedding_dim, input_length=max_length, weights=[embedding_matrix]))\n",
    "model2.add(GlobalAveragePooling1D())\n",
    "# model.add(Flatten())\n",
    "model2.add(Dense(64, activation='relu'))\n",
    "model2.add(Dropout(0.5))\n",
    "model2.add(Dense(32, activation='relu'))\n",
    "model2.add(Dropout(0.5))\n",
    "# model2.add(Dense(16, activation='relu'))\n",
    "# model2.add(Dropout(0.5))\n",
    "model2.add(Dense(4, activation='softmax'))\n",
    "\n",
    "model2.compile(loss='categorical_crossentropy',\n",
    "                optimizer=Adam(learning_rate=0.001),\n",
    "                metrics=['accuracy', tfa.metrics.F1Score(average='macro',num_classes=4)])\n",
    "model2.summary()\n",
    "\n",
    "checkpoint_filepath = 'checkpoint_model_nn2'\n",
    "model_checkpoint_callback = keras.callbacks.ModelCheckpoint(\n",
    "    filepath=checkpoint_filepath,\n",
    "    monitor='val_f1_score',\n",
    "    mode='max',\n",
    "    save_best_only=True)\n",
    "\n",
    "model2.fit(X_train_vector, y_train_labeled, epochs=epochs, validation_data=(X_test_vector, y_test_labeled),\\\n",
    "          callbacks=[model_checkpoint_callback])\n",
    "\n",
    "model2.load_weights(checkpoint_filepath)\n",
    "y_pred = model2.predict(X_test_vector)\n",
    "\n",
    "y_pred_inverse = one_hot_encoder.inverse_transform(y_pred)\n",
    "\n",
    "print(classification_report(y_test, y_pred_inverse))"
   ]
  },
  {
   "cell_type": "code",
   "execution_count": 180,
   "metadata": {},
   "outputs": [
    {
     "name": "stdout",
     "output_type": "stream",
     "text": [
      "1527/1527 [==============================] - 5s 3ms/step\n",
      "Confusion matrix for training dataset\n",
      " [[13976     7    55     9]\n",
      " [    6  6901    34     1]\n",
      " [   22    21 17822     5]\n",
      " [  119     9   194  9673]]\n"
     ]
    },
    {
     "data": {
      "image/png": "[encoded data removed]",
      "text/plain": [
       "<Figure size 432x288 with 2 Axes>"
      ]
     },
     "metadata": {
      "needs_background": "light"
     },
     "output_type": "display_data"
    }
   ],
   "source": [
    "from sklearn.metrics import confusion_matrix\n",
    "import seaborn as sns\n",
    "import matplotlib.pyplot as plt\n",
    "\n",
    "y_pred = model2.predict(X_train_vector)\n",
    "y_pred_inverse = one_hot_encoder.inverse_transform(y_pred)\n",
    "cm = confusion_matrix(y_train, y_pred_inverse)\n",
    "\n",
    "print('Confusion matrix for training dataset\\n', cm)\n",
    "\n",
    "cm_matrix = pd.DataFrame(data=cm, columns=['Predicted 1', 'Predicted 2', 'Predicted 3' ,'Predicted 4'], \n",
    "                        index=['Actual 1', 'Actual 2', 'Actual 3' ,'Actual 4'])\n",
    "sns.heatmap(cm_matrix, annot=True, fmt='d', cmap='YlGnBu')\n",
    "plt.show()"
   ]
  },
  {
   "cell_type": "code",
   "execution_count": 181,
   "metadata": {},
   "outputs": [
    {
     "name": "stdout",
     "output_type": "stream",
     "text": [
      "94/94 [==============================] - 0s 3ms/step\n",
      "Confusion matrix for testing dataset\n",
      " [[645  68  16  21]\n",
      " [ 32 369 313  36]\n",
      " [ 35  15 603  97]\n",
      " [ 35   9  31 675]]\n"
     ]
    },
    {
     "data": {
      "image/png": "[encoded data removed]",
      "text/plain": [
       "<Figure size 432x288 with 2 Axes>"
      ]
     },
     "metadata": {
      "needs_background": "light"
     },
     "output_type": "display_data"
    }
   ],
   "source": [
    "y_pred = model2.predict(X_test_vector)\n",
    "y_pred_inverse = one_hot_encoder.inverse_transform(y_pred)\n",
    "cm = confusion_matrix(y_test, y_pred_inverse)\n",
    "\n",
    "print('Confusion matrix for testing dataset\\n', cm)\n",
    "\n",
    "cm_matrix = pd.DataFrame(data=cm, columns=['Predicted 1', 'Predicted 2', 'Predicted 3' ,'Predicted 4'], \n",
    "                        index=['Actual 1', 'Actual 2', 'Actual 3' ,'Actual 4'])\n",
    "sns.heatmap(cm_matrix, annot=True, fmt='d', cmap='YlGnBu')\n",
    "plt.show()"
   ]
  },
  {
   "cell_type": "code",
   "execution_count": null,
   "metadata": {},
   "outputs": [],
   "source": []
  }
 ],
 "metadata": {
  "colab": {
   "provenance": []
  },
  "kernelspec": {
   "display_name": "Python 3 (ipykernel)",
   "language": "python",
   "name": "python3"
  },
  "language_info": {
   "codemirror_mode": {
    "name": "ipython",
    "version": 3
   },
   "file_extension": ".py",
   "mimetype": "text/x-python",
   "name": "python",
   "nbconvert_exporter": "python",
   "pygments_lexer": "ipython3",
   "version": "3.10.2"
  }
 },
 "nbformat": 4,
 "nbformat_minor": 1
}
