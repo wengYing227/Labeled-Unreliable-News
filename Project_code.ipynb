{
 "cells": [
  {
   "cell_type": "markdown",
   "metadata": {
    "id": "oyI5SA6HIoRH"
   },
   "source": [
    "# CS4248 Project\n",
    "(DON'T CLICK RUN ALL! Lemmatization takes tooo long and pls don't run it again)"
   ]
  },
  {
   "cell_type": "code",
   "execution_count": 57,
   "metadata": {
    "ExecuteTime": {
     "end_time": "2024-03-03T12:43:08.052298Z",
     "start_time": "2024-03-03T12:43:07.925947Z"
    },
    "colab": {
     "base_uri": "https://localhost:8080/"
    },
    "id": "vS033yHSHyAx",
    "outputId": "e923c9e4-6bda-4a5a-970a-3bdd5ee92c59"
   },
   "outputs": [],
   "source": [
    "# from google.colab import drive\n",
    "# drive.mount('/content/drive')\n",
    "# \n",
    "# %cd \"/content/drive/My Drive/CS4248 Project\"\n",
    "# !cd \"/content/drive/My Drive/CS4248 Project\""
   ]
  },
  {
   "cell_type": "code",
   "execution_count": 58,
   "metadata": {
    "ExecuteTime": {
     "end_time": "2024-03-03T12:43:08.736833Z",
     "start_time": "2024-03-03T12:43:07.927851Z"
    },
    "id": "2nqSeqYQJ4vW"
   },
   "outputs": [],
   "source": [
    "import pandas as pd\n",
    "import numpy as np\n",
    "import csv\n",
    "from sklearn.feature_extraction.text import TfidfVectorizer\n",
    "from sklearn.metrics import classification_report\n",
    "from sklearn.linear_model import LogisticRegression\n",
    "from sklearn.naive_bayes import ComplementNB\n",
    "from sklearn.feature_extraction.text import TfidfVectorizer"
   ]
  },
  {
   "cell_type": "code",
   "execution_count": 59,
   "metadata": {
    "ExecuteTime": {
     "end_time": "2024-03-03T12:43:09.599261Z",
     "start_time": "2024-03-03T12:43:08.737465Z"
    },
    "id": "9PepPt_CL94x"
   },
   "outputs": [],
   "source": [
    "csv.field_size_limit(999999)\n",
    "train = pd.read_csv('raw_data/fulltrain.csv', header = None, names=['class','text'])\n",
    "X_train = train['text']\n",
    "y_train = train['class']"
   ]
  },
  {
   "cell_type": "code",
   "execution_count": 60,
   "metadata": {
    "ExecuteTime": {
     "end_time": "2024-03-03T12:43:09.607016Z",
     "start_time": "2024-03-03T12:43:09.600873Z"
    },
    "colab": {
     "base_uri": "https://localhost:8080/",
     "height": 206
    },
    "id": "sCT1xI_yXFJO",
    "outputId": "172bcde2-37a1-40c2-e329-f0152f49ab50"
   },
   "outputs": [
    {
     "data": {
      "text/html": [
       "<div>\n",
       "<style scoped>\n",
       "    .dataframe tbody tr th:only-of-type {\n",
       "        vertical-align: middle;\n",
       "    }\n",
       "\n",
       "    .dataframe tbody tr th {\n",
       "        vertical-align: top;\n",
       "    }\n",
       "\n",
       "    .dataframe thead th {\n",
       "        text-align: right;\n",
       "    }\n",
       "</style>\n",
       "<table border=\"1\" class=\"dataframe\">\n",
       "  <thead>\n",
       "    <tr style=\"text-align: right;\">\n",
       "      <th></th>\n",
       "      <th>class</th>\n",
       "      <th>text</th>\n",
       "    </tr>\n",
       "  </thead>\n",
       "  <tbody>\n",
       "    <tr>\n",
       "      <th>0</th>\n",
       "      <td>1</td>\n",
       "      <td>A little less than a decade ago, hockey fans w...</td>\n",
       "    </tr>\n",
       "    <tr>\n",
       "      <th>1</th>\n",
       "      <td>1</td>\n",
       "      <td>The writers of the HBO series The Sopranos too...</td>\n",
       "    </tr>\n",
       "    <tr>\n",
       "      <th>2</th>\n",
       "      <td>1</td>\n",
       "      <td>Despite claims from the TV news outlet to offe...</td>\n",
       "    </tr>\n",
       "    <tr>\n",
       "      <th>3</th>\n",
       "      <td>1</td>\n",
       "      <td>After receiving 'subpar' service and experienc...</td>\n",
       "    </tr>\n",
       "    <tr>\n",
       "      <th>4</th>\n",
       "      <td>1</td>\n",
       "      <td>After watching his beloved Seattle Mariners pr...</td>\n",
       "    </tr>\n",
       "  </tbody>\n",
       "</table>\n",
       "</div>"
      ],
      "text/plain": [
       "   class                                               text\n",
       "0      1  A little less than a decade ago, hockey fans w...\n",
       "1      1  The writers of the HBO series The Sopranos too...\n",
       "2      1  Despite claims from the TV news outlet to offe...\n",
       "3      1  After receiving 'subpar' service and experienc...\n",
       "4      1  After watching his beloved Seattle Mariners pr..."
      ]
     },
     "execution_count": 60,
     "metadata": {},
     "output_type": "execute_result"
    }
   ],
   "source": [
    "train.head()"
   ]
  },
  {
   "cell_type": "code",
   "execution_count": 61,
   "metadata": {
    "ExecuteTime": {
     "end_time": "2024-03-03T12:43:09.671723Z",
     "start_time": "2024-03-03T12:43:09.607333Z"
    },
    "id": "-FcMBozxWAvz"
   },
   "outputs": [],
   "source": [
    "test = pd.read_csv(\"raw_data/balancedtest.csv\", header = None, names=['class','text'])\n",
    "X_test = test['text']\n",
    "y_test = test['class']"
   ]
  },
  {
   "cell_type": "code",
   "execution_count": 62,
   "metadata": {
    "ExecuteTime": {
     "end_time": "2024-03-03T12:43:09.674994Z",
     "start_time": "2024-03-03T12:43:09.662004Z"
    },
    "colab": {
     "base_uri": "https://localhost:8080/",
     "height": 206
    },
    "id": "s5befmSMXN8N",
    "outputId": "c1aef16d-ccb9-4036-f8af-1a6c9d16c035"
   },
   "outputs": [
    {
     "data": {
      "text/html": [
       "<div>\n",
       "<style scoped>\n",
       "    .dataframe tbody tr th:only-of-type {\n",
       "        vertical-align: middle;\n",
       "    }\n",
       "\n",
       "    .dataframe tbody tr th {\n",
       "        vertical-align: top;\n",
       "    }\n",
       "\n",
       "    .dataframe thead th {\n",
       "        text-align: right;\n",
       "    }\n",
       "</style>\n",
       "<table border=\"1\" class=\"dataframe\">\n",
       "  <thead>\n",
       "    <tr style=\"text-align: right;\">\n",
       "      <th></th>\n",
       "      <th>class</th>\n",
       "      <th>text</th>\n",
       "    </tr>\n",
       "  </thead>\n",
       "  <tbody>\n",
       "    <tr>\n",
       "      <th>0</th>\n",
       "      <td>1</td>\n",
       "      <td>When so many actors seem content to churn out ...</td>\n",
       "    </tr>\n",
       "    <tr>\n",
       "      <th>1</th>\n",
       "      <td>1</td>\n",
       "      <td>In what football insiders are calling an unex...</td>\n",
       "    </tr>\n",
       "    <tr>\n",
       "      <th>2</th>\n",
       "      <td>1</td>\n",
       "      <td>In a freak accident following Game 3 of the N....</td>\n",
       "    </tr>\n",
       "    <tr>\n",
       "      <th>3</th>\n",
       "      <td>1</td>\n",
       "      <td>North Koreas official news agency announced to...</td>\n",
       "    </tr>\n",
       "    <tr>\n",
       "      <th>4</th>\n",
       "      <td>1</td>\n",
       "      <td>The former Alaska Governor Sarah Palin would b...</td>\n",
       "    </tr>\n",
       "  </tbody>\n",
       "</table>\n",
       "</div>"
      ],
      "text/plain": [
       "   class                                               text\n",
       "0      1  When so many actors seem content to churn out ...\n",
       "1      1   In what football insiders are calling an unex...\n",
       "2      1  In a freak accident following Game 3 of the N....\n",
       "3      1  North Koreas official news agency announced to...\n",
       "4      1  The former Alaska Governor Sarah Palin would b..."
      ]
     },
     "execution_count": 62,
     "metadata": {},
     "output_type": "execute_result"
    }
   ],
   "source": [
    "test.head()"
   ]
  },
  {
   "cell_type": "markdown",
   "metadata": {
    "id": "3WOxbEhspgUT"
   },
   "source": [
    "## Baseline Models"
   ]
  },
  {
   "cell_type": "code",
   "execution_count": 63,
   "metadata": {
    "ExecuteTime": {
     "end_time": "2024-03-03T12:43:19.168882Z",
     "start_time": "2024-03-03T12:43:09.714397Z"
    },
    "id": "NKfM8O-nbbpJ"
   },
   "outputs": [],
   "source": [
    "def tfidf(X_train, X_test):\n",
    "\n",
    "  tfidf_baseline = TfidfVectorizer(ngram_range=(1,1), max_features = 10000)\n",
    "\n",
    "  X_train_tfidf = tfidf_baseline.fit_transform(X_train)\n",
    "\n",
    "  X_test_tfidf = tfidf_baseline.transform(X_test)\n",
    "\n",
    "  return X_train_tfidf, X_test_tfidf\n",
    "\n",
    "X_train_tfidf, X_test_tfidf = tfidf(X_train, X_test)"
   ]
  },
  {
   "cell_type": "code",
   "execution_count": 64,
   "metadata": {
    "ExecuteTime": {
     "end_time": "2024-03-03T12:43:25.273195Z",
     "start_time": "2024-03-03T12:43:19.166466Z"
    },
    "colab": {
     "base_uri": "https://localhost:8080/"
    },
    "id": "SDCcR3tOpJ-e",
    "outputId": "c1bc4bd9-bf63-4b1a-902b-147b1c243360"
   },
   "outputs": [
    {
     "name": "stdout",
     "output_type": "stream",
     "text": [
      "              precision    recall  f1-score   support\n",
      "\n",
      "           1       0.85      0.79      0.82       750\n",
      "           2       0.81      0.37      0.51       750\n",
      "           3       0.56      0.83      0.67       750\n",
      "           4       0.81      0.92      0.86       750\n",
      "\n",
      "    accuracy                           0.73      3000\n",
      "   macro avg       0.76      0.73      0.71      3000\n",
      "weighted avg       0.76      0.73      0.71      3000\n",
      "\n"
     ]
    }
   ],
   "source": [
    "# Logistic Regression - baseline\n",
    "\n",
    "def LR(X_train_tfidf, y_train, X_test_tfidf):\n",
    "\n",
    "  LR_classifier = LogisticRegression(random_state = 42, max_iter=1000).fit(X_train_tfidf, y_train)\n",
    "\n",
    "  y_pred_lr = LR_classifier.predict(X_test_tfidf)\n",
    "\n",
    "  print(classification_report(y_test, y_pred_lr))\n",
    "\n",
    "  return y_pred_lr\n",
    "\n",
    "y_pred_lr = LR(X_train_tfidf, y_train, X_test_tfidf)"
   ]
  },
  {
   "cell_type": "code",
   "execution_count": 65,
   "metadata": {
    "ExecuteTime": {
     "end_time": "2024-03-03T12:43:25.327008Z",
     "start_time": "2024-03-03T12:43:25.274214Z"
    },
    "colab": {
     "base_uri": "https://localhost:8080/"
    },
    "id": "VQyWjGLUxREy",
    "outputId": "e4827d40-70fe-44b0-ecd2-9c271deaf5dd"
   },
   "outputs": [
    {
     "name": "stdout",
     "output_type": "stream",
     "text": [
      "              precision    recall  f1-score   support\n",
      "\n",
      "           1       0.62      0.61      0.61       750\n",
      "           2       0.62      0.46      0.53       750\n",
      "           3       0.62      0.93      0.74       750\n",
      "           4       0.88      0.67      0.76       750\n",
      "\n",
      "    accuracy                           0.67      3000\n",
      "   macro avg       0.68      0.67      0.66      3000\n",
      "weighted avg       0.68      0.67      0.66      3000\n",
      "\n"
     ]
    }
   ],
   "source": [
    "# NB - baseline\n",
    "\n",
    "def NB(X_train_tfidf, y_train, X_test_tfidf):\n",
    "\n",
    "  nb_classifier = ComplementNB().fit(X_train_tfidf, y_train)\n",
    "\n",
    "  y_pred_nb = nb_classifier.predict(X_test_tfidf)\n",
    "\n",
    "  print(classification_report(y_test, y_pred_nb))\n",
    "\n",
    "  return y_pred_nb\n",
    "\n",
    "y_pred_nb = NB(X_train_tfidf, y_train, X_test_tfidf)"
   ]
  },
  {
   "cell_type": "markdown",
   "metadata": {
    "id": "ITNfwpWkt1OI"
   },
   "source": [
    "## Preprocessing"
   ]
  },
  {
   "cell_type": "markdown",
   "metadata": {
    "id": "z6Yrnd2f_y5W"
   },
   "source": [
    "### Lemmatization with POS Tagging\n",
    "(DON'T RUN AGAIN! It takes tooooo long)"
   ]
  },
  {
   "cell_type": "code",
   "execution_count": 66,
   "metadata": {
    "ExecuteTime": {
     "end_time": "2024-03-03T12:43:25.546206Z",
     "start_time": "2024-03-03T12:43:25.310784Z"
    },
    "colab": {
     "base_uri": "https://localhost:8080/"
    },
    "id": "3E3t6cQp1r-N",
    "outputId": "45aad408-e2fc-4eea-d48b-c4cd161199bd"
   },
   "outputs": [
    {
     "name": "stderr",
     "output_type": "stream",
     "text": [
      "[nltk_data] Downloading package averaged_perceptron_tagger to\n",
      "[nltk_data]     /Users/james/nltk_data...\n",
      "[nltk_data]   Package averaged_perceptron_tagger is already up-to-\n",
      "[nltk_data]       date!\n"
     ]
    }
   ],
   "source": [
    "\n",
    "# WORDNET LEMMATIZER (with appropriate pos tags)\n",
    "import nltk\n",
    "from nltk.stem import WordNetLemmatizer\n",
    "nltk.download('averaged_perceptron_tagger')\n",
    "from nltk.corpus import wordnet\n",
    "\n",
    "lemmatizer = WordNetLemmatizer()\n",
    "\n",
    "# Define function to lemmatize each word with its POS tag\n",
    "\n",
    "# POS_TAGGER_FUNCTION : TYPE 1\n",
    "def pos_tagger(nltk_tag):\n",
    "    if nltk_tag.startswith('J'):\n",
    "        return wordnet.ADJ\n",
    "    elif nltk_tag.startswith('V'):\n",
    "        return wordnet.VERB\n",
    "    elif nltk_tag.startswith('N'):\n",
    "        return wordnet.NOUN\n",
    "    elif nltk_tag.startswith('R'):\n",
    "        return wordnet.ADV\n",
    "    else:\n",
    "        return None\n",
    "\n",
    "def lemmatize_with_pos(tokens):\n",
    "  # tokenize the sentence and find the POS tag for each token\n",
    "  pos_tagged = nltk.pos_tag(tokens)\n",
    "\n",
    "  # print(pos_tagged)\n",
    "\n",
    "  wordnet_tagged = list(map(lambda x: (x[0], pos_tagger(x[1])), pos_tagged))\n",
    "  # print(wordnet_tagged)\n",
    "\n",
    "  lemmatized_sentence = []\n",
    "  for word, tag in wordnet_tagged:\n",
    "      if tag is None:\n",
    "          # if there is no available tag, append the token as is\n",
    "          lemmatized_sentence.append(word)\n",
    "      else:\n",
    "          # else use the tag to lemmatize the token\n",
    "          lemmatized_sentence.append(lemmatizer.lemmatize(word, tag))\n",
    "  # lemmatized_sentence = \" \".join(lemmatized_sentence)\n",
    "\n",
    "  # print(lemmatized_sentence)\n",
    "  return lemmatized_sentence"
   ]
  },
  {
   "cell_type": "code",
   "execution_count": 67,
   "metadata": {
    "ExecuteTime": {
     "end_time": "2024-03-03T12:54:52.363669Z",
     "start_time": "2024-03-03T12:43:25.540072Z"
    },
    "colab": {
     "base_uri": "https://localhost:8080/"
    },
    "id": "i-3cE9Qzt3zY",
    "outputId": "dd07285c-1ccd-41b5-c9d3-78d8174a7cb1"
   },
   "outputs": [
    {
     "name": "stderr",
     "output_type": "stream",
     "text": [
      "[nltk_data] Downloading package punkt to /Users/james/nltk_data...\n",
      "[nltk_data]   Package punkt is already up-to-date!\n",
      "[nltk_data] Downloading package wordnet to /Users/james/nltk_data...\n",
      "[nltk_data]   Package wordnet is already up-to-date!\n",
      "100%|██████████| 48854/48854 [09:47<00:00, 83.17it/s] \n",
      "100%|██████████| 3000/3000 [00:33<00:00, 89.73it/s] \n"
     ]
    },
    {
     "data": {
      "text/plain": [
       "['A little less than a decade ago hockey fan be bless with a slate of game every night but on Thursday source confirm that for the ninth consecutive year NHL player have be lock out with very slim hope of an agreement in sight It seem like just yesterday Martin St. Louis and his Lightning teammate be raise the Stanley Cup high school hockey coach and onetime ESPN analyst Barry Melrose say Obviously Im still hop the two side can come together and reach an agreement but Im start to think nobody really miss hockey anymore Nope Nobody but old Barry Id still love to catch an Atlanta Thrashers game Observers have note that when arena door do reopen the NHL will face the perhaps great challenge of convince fan to return to hockey instead of watch more popular sport like football basketball baseball and SlamBall',\n",
       " \"The writer of the HBO series The Sopranos take another dare storytelling step by kill off million fan during the seventh season 's premiere episode Sunday night 'This be definitely a bold choice one that producer of the show would have never think of make five year ago say New York Times television critic Virginia Heffernan who note that the move be hint at in a season-five episode in which Tony dreamt he be rid a horse through his house 'But now that I look back this be strongly foreshadow throughout all of last season Industry insider predict that the show 's producer would try to bring at least some fan back for the series finale which may come as early as May\"]"
      ]
     },
     "execution_count": 67,
     "metadata": {},
     "output_type": "execute_result"
    }
   ],
   "source": [
    "# Start preprocessing\n",
    "\n",
    "from nltk.tokenize import word_tokenize\n",
    "nltk.download('punkt')\n",
    "nltk.download('wordnet')\n",
    "from tqdm import tqdm\n",
    "from spellchecker import SpellChecker\n",
    "\n",
    "punc = '''!()-[]{};:'\"\\,<>./?@#$%^&*_~'''\n",
    "\n",
    "spell = SpellChecker()\n",
    "\n",
    "def preprocessing(data):\n",
    "  data_clean = []\n",
    "  for sentence in tqdm(data):\n",
    "\n",
    "    # Tokenization\n",
    "    tokens = word_tokenize(sentence)\n",
    "\n",
    "    # Remove punctuation and number\n",
    "    tokens = [w for w in tokens if (not w in punc) and (not w.isdigit())]\n",
    "\n",
    "    # Spell check\n",
    "    # Taking too long time for each sentence, not practical to be used\n",
    "    # tokens = [spell.correction(w) for w in tokens]\n",
    "    # tokens = [w for w in tokens if w is not None and len(w) > 0]\n",
    "\n",
    "    # Lemmatization based on tagging\n",
    "    tokens = lemmatize_with_pos(tokens)\n",
    "\n",
    "    data_clean.append((' ').join(tokens))\n",
    "  return data_clean\n",
    "\n",
    "\n",
    "X_train_clean = preprocessing(X_train)\n",
    "X_test_clean = preprocessing(X_test)\n",
    "\n",
    "X_train_clean[:2]"
   ]
  },
  {
   "cell_type": "code",
   "execution_count": 68,
   "metadata": {
    "ExecuteTime": {
     "end_time": "2024-03-03T12:55:07.439512Z",
     "start_time": "2024-03-03T12:54:52.361889Z"
    },
    "colab": {
     "base_uri": "https://localhost:8080/"
    },
    "id": "nH-JuFWdzqHa",
    "outputId": "1e641367-5188-4e56-8a83-b04dbde46ec0"
   },
   "outputs": [
    {
     "name": "stdout",
     "output_type": "stream",
     "text": [
      "              precision    recall  f1-score   support\n",
      "\n",
      "           1       0.85      0.81      0.83       750\n",
      "           2       0.84      0.42      0.56       750\n",
      "           3       0.59      0.83      0.69       750\n",
      "           4       0.81      0.92      0.86       750\n",
      "\n",
      "    accuracy                           0.74      3000\n",
      "   macro avg       0.77      0.75      0.74      3000\n",
      "weighted avg       0.77      0.74      0.74      3000\n",
      "\n"
     ]
    }
   ],
   "source": [
    "X_train_clean_tfidf, X_test_clean_tfidf = tfidf(X_train_clean, X_test_clean)\n",
    "\n",
    "_ = LR(X_train_clean_tfidf, y_train, X_test_clean_tfidf)"
   ]
  },
  {
   "cell_type": "code",
   "execution_count": 69,
   "metadata": {
    "ExecuteTime": {
     "end_time": "2024-03-03T12:55:07.502437Z",
     "start_time": "2024-03-03T12:55:07.437285Z"
    },
    "colab": {
     "base_uri": "https://localhost:8080/"
    },
    "id": "Tu2641T-HNd3",
    "outputId": "ba6f10d5-8b1f-4365-be7e-11ca479109bc"
   },
   "outputs": [
    {
     "name": "stdout",
     "output_type": "stream",
     "text": [
      "              precision    recall  f1-score   support\n",
      "\n",
      "           1       0.60      0.61      0.61       750\n",
      "           2       0.65      0.51      0.57       750\n",
      "           3       0.63      0.92      0.75       750\n",
      "           4       0.87      0.64      0.74       750\n",
      "\n",
      "    accuracy                           0.67      3000\n",
      "   macro avg       0.69      0.67      0.67      3000\n",
      "weighted avg       0.69      0.67      0.67      3000\n",
      "\n"
     ]
    }
   ],
   "source": [
    "_ = NB(X_train_clean_tfidf, y_train, X_test_clean_tfidf)"
   ]
  },
  {
   "cell_type": "markdown",
   "metadata": {
    "id": "UTufYR0Gt4Wi"
   },
   "source": [
    "## Feature Engineering"
   ]
  },
  {
   "cell_type": "markdown",
   "metadata": {},
   "source": [
    "### Text subjectivity"
   ]
  },
  {
   "cell_type": "code",
   "execution_count": 70,
   "metadata": {
    "ExecuteTime": {
     "end_time": "2024-03-03T12:56:15.269645Z",
     "start_time": "2024-03-03T12:55:07.474084Z"
    },
    "id": "h4_ImWMZt6Ru"
   },
   "outputs": [],
   "source": [
    "# Text Subjectivity (w/o preprocessing)\n",
    "from textblob import TextBlob\n",
    "\n",
    "def subjectivity(data, tf_idf):\n",
    "    # new_data = data.copy()\n",
    "    new_data = data\n",
    "    new_data['psycho-linguistic'] = new_data[\"text\"].apply(lambda x: TextBlob(x).sentiment)\n",
    "    new_data['subjectivity'] = new_data['psycho-linguistic'].apply(lambda x: x[1])\n",
    "    tfidf_df = pd.DataFrame(tf_idf.toarray())\n",
    "    subject_df = pd.merge(tfidf_df, new_data['subjectivity'],left_index=True, right_index=True)\n",
    "    subject_df.columns = subject_df.columns.astype(str)\n",
    "    return subject_df\n",
    "\n",
    "train_subject_df = subjectivity(train, X_train_tfidf)\n",
    "test_subject_df = subjectivity(test, X_test_tfidf)"
   ]
  },
  {
   "cell_type": "code",
   "execution_count": 71,
   "metadata": {
    "ExecuteTime": {
     "end_time": "2024-03-03T12:57:00.593547Z",
     "start_time": "2024-03-03T12:56:15.270976Z"
    },
    "id": "eqxPbQkservd"
   },
   "outputs": [
    {
     "name": "stdout",
     "output_type": "stream",
     "text": [
      "              precision    recall  f1-score   support\n",
      "\n",
      "           1       0.85      0.81      0.83       750\n",
      "           2       0.81      0.37      0.51       750\n",
      "           3       0.57      0.82      0.67       750\n",
      "           4       0.81      0.92      0.86       750\n",
      "\n",
      "    accuracy                           0.73      3000\n",
      "   macro avg       0.76      0.73      0.72      3000\n",
      "weighted avg       0.76      0.73      0.72      3000\n",
      "\n"
     ]
    }
   ],
   "source": [
    "_ = LR(train_subject_df, y_train, test_subject_df)"
   ]
  },
  {
   "cell_type": "code",
   "execution_count": 72,
   "metadata": {
    "ExecuteTime": {
     "end_time": "2024-03-03T12:57:01.581904Z",
     "start_time": "2024-03-03T12:57:00.616100Z"
    },
    "id": "qLCfOSineuZA"
   },
   "outputs": [
    {
     "name": "stdout",
     "output_type": "stream",
     "text": [
      "              precision    recall  f1-score   support\n",
      "\n",
      "           1       0.62      0.62      0.62       750\n",
      "           2       0.62      0.46      0.53       750\n",
      "           3       0.62      0.93      0.74       750\n",
      "           4       0.88      0.67      0.76       750\n",
      "\n",
      "    accuracy                           0.67      3000\n",
      "   macro avg       0.68      0.67      0.66      3000\n",
      "weighted avg       0.68      0.67      0.66      3000\n",
      "\n"
     ]
    }
   ],
   "source": [
    "_ = NB(train_subject_df, y_train, test_subject_df)"
   ]
  },
  {
   "cell_type": "code",
   "execution_count": 73,
   "metadata": {
    "ExecuteTime": {
     "end_time": "2024-03-03T12:58:09.782527Z",
     "start_time": "2024-03-03T12:57:01.638560Z"
    },
    "id": "Z8wmIXUvewcx"
   },
   "outputs": [],
   "source": [
    "# Text Subjectivity (with preprocessing)\n",
    "train_clean_subject_df = subjectivity(train, X_train_clean_tfidf)\n",
    "test_clean_subject_df = subjectivity(test, X_test_clean_tfidf)"
   ]
  },
  {
   "cell_type": "code",
   "execution_count": 74,
   "metadata": {
    "ExecuteTime": {
     "end_time": "2024-03-03T12:58:48.296884Z",
     "start_time": "2024-03-03T12:58:09.806196Z"
    },
    "id": "Oz5HO9tEey_y"
   },
   "outputs": [
    {
     "name": "stdout",
     "output_type": "stream",
     "text": [
      "              precision    recall  f1-score   support\n",
      "\n",
      "           1       0.86      0.83      0.84       750\n",
      "           2       0.83      0.40      0.54       750\n",
      "           3       0.58      0.83      0.69       750\n",
      "           4       0.81      0.92      0.86       750\n",
      "\n",
      "    accuracy                           0.74      3000\n",
      "   macro avg       0.77      0.74      0.73      3000\n",
      "weighted avg       0.77      0.74      0.73      3000\n",
      "\n"
     ]
    }
   ],
   "source": [
    "_ = LR(train_clean_subject_df, y_train, test_clean_subject_df)"
   ]
  },
  {
   "cell_type": "code",
   "execution_count": 75,
   "metadata": {
    "ExecuteTime": {
     "end_time": "2024-03-03T12:58:50.812512Z",
     "start_time": "2024-03-03T12:58:48.284990Z"
    },
    "id": "3Uyp0kzUe1V_"
   },
   "outputs": [
    {
     "name": "stdout",
     "output_type": "stream",
     "text": [
      "              precision    recall  f1-score   support\n",
      "\n",
      "           1       0.60      0.61      0.61       750\n",
      "           2       0.64      0.51      0.57       750\n",
      "           3       0.63      0.92      0.75       750\n",
      "           4       0.87      0.65      0.74       750\n",
      "\n",
      "    accuracy                           0.67      3000\n",
      "   macro avg       0.69      0.67      0.67      3000\n",
      "weighted avg       0.69      0.67      0.67      3000\n",
      "\n"
     ]
    }
   ],
   "source": [
    "_ = NB(train_clean_subject_df, y_train, test_clean_subject_df)"
   ]
  },
  {
   "cell_type": "markdown",
   "metadata": {},
   "source": [
    "### Hedging word count"
   ]
  },
  {
   "cell_type": "code",
   "execution_count": 76,
   "metadata": {
    "ExecuteTime": {
     "end_time": "2024-03-03T13:35:09.921099Z",
     "start_time": "2024-03-03T13:35:09.912359Z"
    },
    "id": "I016Kj7me2_3"
   },
   "outputs": [],
   "source": [
    "# Hedging Word Count (w/o preprocessing)\n",
    "#source: http://jal.iaut.ac.ir/article_524171_19ce974d4c9441a312df2d6eaac20a15.pdf\n",
    "#https://hal.inria.fr/hal-03342756/file/Besancon__Definitely_Maybe__preprint%20%281%29.pdf\n",
    "import re\n",
    "modal = \"Can Could May Might Should Will Would\"\n",
    "re_modal = \"(?:^|\\W)(\" + \"|\".join(modal.lower().split(\" \")) + \")(?:$|\\W)\"\n",
    "\n",
    "lexical = \"Appear Argue Assert Assume Attempt Believe Claim Conclude Consider Doubt Estimate Evaluate Expect Feel Hypothesize Imply Indicate Interpret Maintain Note Offer Observe Perceive Presume Propose Prove Report Seem Seen Speculate Suggest Suppose Suspect Tend Think\"\n",
    "lexical_s = [i + \"s\" for i in lexical.lower().split(\" \")]\n",
    "re_lexical = \"(?:^|\\W)(\" + \"|\".join(lexical.lower().split(\" \") + lexical_s) + \"|attempt to|can be seen\" + \")(?:$|\\W)\"\n",
    "\n",
    "adverbs = \"About Allegedly Almost Apparently Approximately Around Arguably Barely Commonly Conceivably Considerably Doubtless Fairly Frequently Generally Given that Greatly Highly Hypothetically Largely Likely Mainly Markedly Maybe Modestly Mostly Nearly Normally Occasionally Often Partially Partly Perhaps Possibly Potentially Practically Presumably Primarily Probably Provided Quite Rarely Reasonably Relatively Reportedly Roughly Seemingly Seldom Significantly Slightly Sometimes Somewhat Strongly Substantially Supposedly Tentatively Theoretically Typically Unlikely Usually Vastly Virtually Widely\"\n",
    "re_adverbs = \"(?:^|\\W)(\" + \"|\".join(adverbs.lower().split(\" \")) + \"|provided that\" + \")(?:$|\\W)\"\n",
    "\n",
    "adjectives = \"Apparent Approximate Common Conceivable Considerable Consistent with Frequent General Hypothetical Improbable Indicative Large Likely Little Main Major Modest Noticeable Plausible Possible Potential Primary Probable Rare Relative Remarkable Rough Significant Slight Small Substantial Theoretical Typical Uncommon Unlikely Usual Well-Known\"\n",
    "re_adjectives = \"(?:^|\\W)(\" + \"|\".join(adjectives.lower().split(\" \")) + \")(?:$|\\W)\"\n",
    "\n",
    "nouns = \"Alternative Approximation Assertion Assessment Assumption Belief Chance Claim Conclusion Doubt Estimate Estimation Evaluation Expectation Hope Idea Implication Indication Interpretation Likelihood Opinion Possibility Premise Probability Proposal Suggestion Tendency View\"\n",
    "re_nouns = \"(?:^|\\W)(\" + \"|\".join(nouns.lower().split(\" \")) + \")(?:$|\\W)\""
   ]
  },
  {
   "cell_type": "code",
   "execution_count": 77,
   "metadata": {
    "ExecuteTime": {
     "end_time": "2024-03-03T13:36:00.245036Z",
     "start_time": "2024-03-03T13:35:12.409392Z"
    },
    "id": "rW1VPfN4e6FY"
   },
   "outputs": [],
   "source": [
    "def hedges(x):\n",
    "    if (len(re.findall(re_modal,x.lower())) +\n",
    "            len(re.findall(re_lexical,x.lower())) +\n",
    "            len(re.findall(re_adverbs,x.lower())) +\n",
    "            len(re.findall(re_adjectives,x.lower())) +\n",
    "            len(re.findall(re_nouns,x.lower()))) == 0:\n",
    "        return 0\n",
    "    else:\n",
    "        return 1\n",
    "\n",
    "def hedging_word_count(data, tf_idf):\n",
    "    new_data = data.copy()\n",
    "    new_data[\"hedges\"] = new_data.loc[:, \"text\"].apply(hedges)\n",
    "    tfidf_df = pd.DataFrame(tf_idf.toarray())\n",
    "    hedged_df = pd.merge(tfidf_df, new_data['hedges'],left_index=True, right_index=True)\n",
    "    hedged_df.columns = hedged_df.columns.astype(str)\n",
    "    return hedged_df\n",
    "\n",
    "train_hedge_df = hedging_word_count(train, X_train_tfidf)\n",
    "test_hedge_df = hedging_word_count(test, X_test_tfidf)"
   ]
  },
  {
   "cell_type": "code",
   "execution_count": 78,
   "metadata": {
    "ExecuteTime": {
     "end_time": "2024-03-03T13:36:57.244185Z",
     "start_time": "2024-03-03T13:36:00.260792Z"
    },
    "id": "-0fGAXTwe8No"
   },
   "outputs": [
    {
     "name": "stdout",
     "output_type": "stream",
     "text": [
      "              precision    recall  f1-score   support\n",
      "\n",
      "           1       0.84      0.82      0.83       750\n",
      "           2       0.80      0.36      0.50       750\n",
      "           3       0.57      0.83      0.68       750\n",
      "           4       0.81      0.92      0.86       750\n",
      "\n",
      "    accuracy                           0.73      3000\n",
      "   macro avg       0.75      0.73      0.72      3000\n",
      "weighted avg       0.75      0.73      0.72      3000\n",
      "\n"
     ]
    }
   ],
   "source": [
    "_ = LR(train_hedge_df, y_train, test_hedge_df)"
   ]
  },
  {
   "cell_type": "code",
   "execution_count": 79,
   "metadata": {
    "ExecuteTime": {
     "end_time": "2024-03-03T13:36:59.075948Z",
     "start_time": "2024-03-03T13:36:57.240045Z"
    },
    "id": "V_EZcIXQfD-t"
   },
   "outputs": [
    {
     "name": "stdout",
     "output_type": "stream",
     "text": [
      "              precision    recall  f1-score   support\n",
      "\n",
      "           1       0.62      0.62      0.62       750\n",
      "           2       0.62      0.46      0.53       750\n",
      "           3       0.62      0.93      0.74       750\n",
      "           4       0.88      0.67      0.76       750\n",
      "\n",
      "    accuracy                           0.67      3000\n",
      "   macro avg       0.69      0.67      0.66      3000\n",
      "weighted avg       0.69      0.67      0.66      3000\n",
      "\n"
     ]
    }
   ],
   "source": [
    "_ = NB(train_hedge_df, y_train, test_hedge_df)"
   ]
  },
  {
   "cell_type": "code",
   "execution_count": 80,
   "metadata": {
    "ExecuteTime": {
     "end_time": "2024-03-03T13:37:47.526460Z",
     "start_time": "2024-03-03T13:36:59.082454Z"
    },
    "id": "rYz1yM-ffFyo"
   },
   "outputs": [],
   "source": [
    "# Hedging Word Count (with preprocessing)\n",
    "train_clean_hedge_df = hedging_word_count(train, X_train_clean_tfidf)\n",
    "test_clean_hedge_df = hedging_word_count(test, X_test_clean_tfidf)"
   ]
  },
  {
   "cell_type": "code",
   "execution_count": 81,
   "metadata": {
    "ExecuteTime": {
     "end_time": "2024-03-03T13:38:35.662288Z",
     "start_time": "2024-03-03T13:37:47.549055Z"
    },
    "id": "mYjo7t8AfIMg"
   },
   "outputs": [
    {
     "name": "stdout",
     "output_type": "stream",
     "text": [
      "              precision    recall  f1-score   support\n",
      "\n",
      "           1       0.85      0.83      0.84       750\n",
      "           2       0.82      0.41      0.54       750\n",
      "           3       0.59      0.83      0.69       750\n",
      "           4       0.80      0.91      0.85       750\n",
      "\n",
      "    accuracy                           0.74      3000\n",
      "   macro avg       0.77      0.74      0.73      3000\n",
      "weighted avg       0.77      0.74      0.73      3000\n",
      "\n"
     ]
    }
   ],
   "source": [
    "_ = LR(train_clean_hedge_df, y_train, test_clean_hedge_df)"
   ]
  },
  {
   "cell_type": "code",
   "execution_count": 82,
   "metadata": {
    "ExecuteTime": {
     "end_time": "2024-03-03T13:38:37.122653Z",
     "start_time": "2024-03-03T13:38:35.677026Z"
    },
    "id": "GzySa4unfL_F"
   },
   "outputs": [
    {
     "name": "stdout",
     "output_type": "stream",
     "text": [
      "              precision    recall  f1-score   support\n",
      "\n",
      "           1       0.60      0.61      0.61       750\n",
      "           2       0.64      0.51      0.57       750\n",
      "           3       0.63      0.91      0.75       750\n",
      "           4       0.87      0.64      0.74       750\n",
      "\n",
      "    accuracy                           0.67      3000\n",
      "   macro avg       0.69      0.67      0.67      3000\n",
      "weighted avg       0.69      0.67      0.67      3000\n",
      "\n"
     ]
    }
   ],
   "source": [
    "_ = NB(train_clean_hedge_df, y_train, test_clean_hedge_df)"
   ]
  },
  {
   "cell_type": "markdown",
   "metadata": {},
   "source": [
    "### Text Sentiment"
   ]
  },
  {
   "cell_type": "code",
   "execution_count": 83,
   "metadata": {},
   "outputs": [
    {
     "name": "stderr",
     "output_type": "stream",
     "text": [
      "[nltk_data] Downloading package vader_lexicon to\n",
      "[nltk_data]     /Users/james/nltk_data...\n",
      "[nltk_data]   Package vader_lexicon is already up-to-date!\n"
     ]
    },
    {
     "data": {
      "text/plain": [
       "True"
      ]
     },
     "execution_count": 83,
     "metadata": {},
     "output_type": "execute_result"
    }
   ],
   "source": [
    "nltk.download('vader_lexicon')"
   ]
  },
  {
   "cell_type": "code",
   "execution_count": 84,
   "metadata": {
    "ExecuteTime": {
     "end_time": "2024-03-03T13:38:37.122924Z",
     "start_time": "2024-03-03T13:38:37.121971Z"
    },
    "id": "HgSb6hNwfNmO"
   },
   "outputs": [],
   "source": [
    "import pandas as pd\n",
    "from nltk.sentiment import SentimentIntensityAnalyzer\n",
    "from sklearn.feature_extraction.text import TfidfVectorizer\n",
    "\n",
    "sia = SentimentIntensityAnalyzer()\n",
    "\n",
    "def sentiment_features(data, tf_idf):\n",
    "    new_data = data.copy()\n",
    "    \n",
    "    new_data['sentiments'] = new_data['text'].apply(lambda x: sia.polarity_scores(x))\n",
    "    new_data['compound'] = new_data['sentiments'].apply(lambda x: x['compound'])\n",
    "    tfidf_df = pd.DataFrame(tf_idf.toarray())\n",
    "    sentiment_df = pd.merge(tfidf_df, new_data['compound'], left_index=True, right_index=True)\n",
    "    sentiment_df.columns = sentiment_df.columns.astype(str)\n",
    "    \n",
    "    return sentiment_df\n",
    "\n",
    "train_sentiment_df = sentiment_features(train, X_train_tfidf)\n",
    "test_sentiment_df = sentiment_features(test, X_test_tfidf)"
   ]
  },
  {
   "cell_type": "code",
   "execution_count": 85,
   "metadata": {
    "collapsed": false
   },
   "outputs": [
    {
     "name": "stdout",
     "output_type": "stream",
     "text": [
      "              precision    recall  f1-score   support\n",
      "\n",
      "           1       0.85      0.80      0.82       750\n",
      "           2       0.82      0.37      0.52       750\n",
      "           3       0.56      0.83      0.67       750\n",
      "           4       0.81      0.92      0.86       750\n",
      "\n",
      "    accuracy                           0.73      3000\n",
      "   macro avg       0.76      0.73      0.72      3000\n",
      "weighted avg       0.76      0.73      0.72      3000\n",
      "\n"
     ]
    }
   ],
   "source": [
    "_ = LR(train_sentiment_df, y_train, test_sentiment_df)"
   ]
  },
  {
   "cell_type": "code",
   "execution_count": 86,
   "metadata": {},
   "outputs": [
    {
     "name": "stdout",
     "output_type": "stream",
     "text": [
      "              precision    recall  f1-score   support\n",
      "\n",
      "           1       0.61      0.64      0.62       750\n",
      "           2       0.62      0.45      0.52       750\n",
      "           3       0.62      0.92      0.74       750\n",
      "           4       0.88      0.66      0.75       750\n",
      "\n",
      "    accuracy                           0.66      3000\n",
      "   macro avg       0.68      0.66      0.66      3000\n",
      "weighted avg       0.68      0.66      0.66      3000\n",
      "\n"
     ]
    }
   ],
   "source": [
    "# Sentiment Scores may be negative so NB will not work. For NB, I have added a constant to the sentiment scores to make them all positive.\n",
    "min_compound_train = train_sentiment_df['compound'].min()\n",
    "min_compound_test = test_sentiment_df['compound'].min()\n",
    "min_compound = min(min_compound_train, min_compound_test)\n",
    "\n",
    "if min_compound < 0:\n",
    "    adjustment = abs(min_compound)\n",
    "    train_sentiment_df['compound'] += adjustment\n",
    "    test_sentiment_df['compound'] += adjustment\n",
    "\n",
    "_ = NB(train_sentiment_df, y_train, test_sentiment_df)"
   ]
  },
  {
   "cell_type": "code",
   "execution_count": 87,
   "metadata": {},
   "outputs": [],
   "source": [
    "#With Preprocessing\n",
    "train_clean_sentiment_df = sentiment_features(train, X_train_clean_tfidf)\n",
    "test_clean_sentiment_df = sentiment_features(test, X_test_clean_tfidf)"
   ]
  },
  {
   "cell_type": "code",
   "execution_count": 88,
   "metadata": {},
   "outputs": [
    {
     "name": "stdout",
     "output_type": "stream",
     "text": [
      "              precision    recall  f1-score   support\n",
      "\n",
      "           1       0.84      0.81      0.82       750\n",
      "           2       0.84      0.42      0.56       750\n",
      "           3       0.59      0.83      0.69       750\n",
      "           4       0.81      0.91      0.86       750\n",
      "\n",
      "    accuracy                           0.74      3000\n",
      "   macro avg       0.77      0.74      0.73      3000\n",
      "weighted avg       0.77      0.74      0.73      3000\n",
      "\n"
     ]
    }
   ],
   "source": [
    "_ = LR(train_clean_sentiment_df, y_train, test_clean_sentiment_df)"
   ]
  },
  {
   "cell_type": "code",
   "execution_count": 89,
   "metadata": {},
   "outputs": [
    {
     "name": "stdout",
     "output_type": "stream",
     "text": [
      "              precision    recall  f1-score   support\n",
      "\n",
      "           1       0.60      0.62      0.61       750\n",
      "           2       0.63      0.48      0.54       750\n",
      "           3       0.62      0.91      0.74       750\n",
      "           4       0.87      0.64      0.74       750\n",
      "\n",
      "    accuracy                           0.66      3000\n",
      "   macro avg       0.68      0.66      0.66      3000\n",
      "weighted avg       0.68      0.66      0.66      3000\n",
      "\n"
     ]
    }
   ],
   "source": [
    "# Sentiment Scores may be negative so NB will not work. For NB, I have added a constant to the sentiment scores to make them all positive.\n",
    "min_clean_compound_train = train_clean_sentiment_df['compound'].min()\n",
    "min_clean_compound_test = test_clean_sentiment_df['compound'].min()\n",
    "min_clean_compound = min(min_clean_compound_train, min_clean_compound_test)\n",
    "\n",
    "if min_clean_compound < 0:\n",
    "    adjustment = abs(min_clean_compound)\n",
    "    train_clean_sentiment_df['compound'] += adjustment\n",
    "    test_clean_sentiment_df['compound'] += adjustment\n",
    "    \n",
    "_ = NB(train_clean_sentiment_df, y_train, test_clean_sentiment_df)"
   ]
  },
  {
   "cell_type": "markdown",
   "metadata": {},
   "source": [
    "### Sentence length"
   ]
  },
  {
   "cell_type": "code",
   "execution_count": 90,
   "metadata": {},
   "outputs": [],
   "source": [
    "def sentence_length_features(data, tf_idf):\n",
    "    new_data = data.copy()\n",
    "    new_data['sentence_length'] = new_data['text'].apply(lambda x: len(x.split()))\n",
    "    tfidf_df = pd.DataFrame(tf_idf.toarray())\n",
    "    \n",
    "    length_df = pd.merge(tfidf_df, new_data['sentence_length'], left_index=True, right_index=True)\n",
    "    length_df.columns = length_df.columns.astype(str)\n",
    "    \n",
    "    return length_df\n",
    "\n",
    "train_length_df = sentence_length_features(train, X_train_tfidf)\n",
    "test_length_df = sentence_length_features(test, X_test_tfidf)"
   ]
  },
  {
   "cell_type": "code",
   "execution_count": 91,
   "metadata": {},
   "outputs": [],
   "source": [
    "from sklearn.preprocessing import StandardScaler\n",
    "\n",
    "def scale_features(train_df, test_df):\n",
    "    scaler = StandardScaler()\n",
    "    train_scaled = scaler.fit_transform(train_df)\n",
    "    test_scaled = scaler.transform(test_df)\n",
    "    \n",
    "    train_scaled_df = pd.DataFrame(train_scaled, columns=train_df.columns)\n",
    "    test_scaled_df = pd.DataFrame(test_scaled, columns=test_df.columns)\n",
    "    \n",
    "    return train_scaled_df, test_scaled_df\n",
    "\n",
    "train_length_scaled_df, test_length_scaled_df = scale_features(train_length_df, test_length_df)\n",
    "\n"
   ]
  },
  {
   "cell_type": "code",
   "execution_count": 92,
   "metadata": {},
   "outputs": [
    {
     "name": "stdout",
     "output_type": "stream",
     "text": [
      "              precision    recall  f1-score   support\n",
      "\n",
      "           1       0.84      0.74      0.79       750\n",
      "           2       0.73      0.40      0.51       750\n",
      "           3       0.57      0.73      0.64       750\n",
      "           4       0.74      0.94      0.82       750\n",
      "\n",
      "    accuracy                           0.70      3000\n",
      "   macro avg       0.72      0.70      0.69      3000\n",
      "weighted avg       0.72      0.70      0.69      3000\n",
      "\n"
     ]
    }
   ],
   "source": [
    "_ = LR(train_length_scaled_df, y_train, test_length_scaled_df)"
   ]
  },
  {
   "cell_type": "code",
   "execution_count": 94,
   "metadata": {},
   "outputs": [
    {
     "name": "stdout",
     "output_type": "stream",
     "text": [
      "              precision    recall  f1-score   support\n",
      "\n",
      "           1       0.65      0.86      0.74       750\n",
      "           2       0.72      0.42      0.53       750\n",
      "           3       0.56      0.93      0.70       750\n",
      "           4       0.90      0.39      0.55       750\n",
      "\n",
      "    accuracy                           0.65      3000\n",
      "   macro avg       0.71      0.65      0.63      3000\n",
      "weighted avg       0.71      0.65      0.63      3000\n",
      "\n"
     ]
    }
   ],
   "source": [
    "# For some reason, after scaling sentence length can give negative values so I will just use NB with unscaled sentence length.\n",
    "    \n",
    "_ = NB(train_length_df, y_train, test_length_df)"
   ]
  }
 ],
 "metadata": {
  "colab": {
   "provenance": []
  },
  "kernelspec": {
   "display_name": "Python 3 (ipykernel)",
   "language": "python",
   "name": "python3"
  },
  "language_info": {
   "codemirror_mode": {
    "name": "ipython",
    "version": 3
   },
   "file_extension": ".py",
   "mimetype": "text/x-python",
   "name": "python",
   "nbconvert_exporter": "python",
   "pygments_lexer": "ipython3",
   "version": "3.10.11"
  }
 },
 "nbformat": 4,
 "nbformat_minor": 0
}
