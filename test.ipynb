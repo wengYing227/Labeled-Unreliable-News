{
 "cells": [
  {
   "cell_type": "code",
   "execution_count": 1,
   "metadata": {},
   "outputs": [
    {
     "name": "stderr",
     "output_type": "stream",
     "text": [
      "[nltk_data] Downloading package stopwords to /Users/james/nltk_data...\n",
      "[nltk_data]   Package stopwords is already up-to-date!\n"
     ]
    },
    {
     "data": {
      "text/plain": [
       "True"
      ]
     },
     "execution_count": 1,
     "metadata": {},
     "output_type": "execute_result"
    }
   ],
   "source": [
    "import pandas as pd\n",
    "import numpy as np\n",
    "import time\n",
    "import csv\n",
    "from sklearn.metrics import f1_score\n",
    "from sklearn.feature_extraction.text import TfidfVectorizer\n",
    "from sklearn.naive_bayes import MultinomialNB\n",
    "from sklearn.pipeline import FunctionTransformer, make_pipeline\n",
    "from sklearn.base import BaseEstimator, TransformerMixin\n",
    "from sklearn.decomposition import PCA\n",
    "from sklearn.linear_model import LogisticRegression\n",
    "from sklearn.pipeline import Pipeline, FeatureUnion\n",
    "from gensim.models import KeyedVectors\n",
    "from scipy.sparse import hstack\n",
    "from sklearn.metrics import classification_report\n",
    "from tensorflow.keras.models import Sequential\n",
    "from tensorflow.keras.layers import Embedding, Conv1D, GlobalMaxPooling1D, Dense\n",
    "from tensorflow.keras.optimizers import Adam\n",
    "\n",
    "import nltk\n",
    "from nltk.corpus import stopwords\n",
    "nltk.download('stopwords')"
   ]
  },
  {
   "cell_type": "code",
   "execution_count": null,
   "metadata": {},
   "outputs": [],
   "source": [
    "vocab_size = 20000  \n",
    "embedding_dim = 100  \n",
    "max_length = 100  \n",
    "num_filters = 128  \n",
    "kernel_size = 5  \n",
    "num_classes = 2 "
   ]
  },
  {
   "cell_type": "code",
   "execution_count": null,
   "metadata": {},
   "outputs": [],
   "source": [
    "model = Sequential([\n",
    "    Embedding(input_dim=vocab_size, output_dim=embedding_dim, input_length=max_length),\n",
    "    Conv1D(filters=num_filters, kernel_size=kernel_size, activation='relu'),\n",
    "    GlobalMaxPooling1D(),\n",
    "    Dense(10, activation='relu'),\n",
    "    Dense(num_classes, activation='softmax')\n",
    "])"
   ]
  },
  {
   "cell_type": "code",
   "execution_count": 2,
   "metadata": {},
   "outputs": [],
   "source": [
    "wordVec = KeyedVectors.load(\"word2vec-google-news-300.model\", mmap='r')"
   ]
  },
  {
   "cell_type": "code",
   "execution_count": 3,
   "metadata": {},
   "outputs": [],
   "source": [
    "def textLen(text):\n",
    "    lengths = []\n",
    "\n",
    "    for t in text:\n",
    "        count = len(t.split())\n",
    "        lengths.append([count])\n",
    "    \n",
    "    return np.array(lengths).reshape(-1, 1)"
   ]
  },
  {
   "cell_type": "code",
   "execution_count": 4,
   "metadata": {},
   "outputs": [],
   "source": [
    "def meanEmbed(text, wordVec):\n",
    "    mean = []\n",
    "    \n",
    "    for t in text:\n",
    "        wordVecs = []\n",
    "\n",
    "        for word in t.split():\n",
    "            if word in wordVec:\n",
    "                wordVecs.append(wordVec[word])\n",
    "    \n",
    "        if not wordVecs:\n",
    "            wordVecs.append(np.zeros(wordVec.vector_size))\n",
    "\n",
    "        tempmean = np.mean(wordVecs, axis=0)\n",
    "        mean.append(tempmean)\n",
    "\n",
    "    return np.array(mean)"
   ]
  },
  {
   "cell_type": "code",
   "execution_count": 5,
   "metadata": {},
   "outputs": [],
   "source": [
    "from nltk.sentiment import SentimentIntensityAnalyzer\n",
    "from sklearn.preprocessing import FunctionTransformer\n",
    "\n",
    "def vader_sentiment_features(texts):\n",
    "    sia = SentimentIntensityAnalyzer()\n",
    "    sentiment_scores = []\n",
    "    for text in texts:\n",
    "        scores = sia.polarity_scores(text)\n",
    "        sentiment_scores.append([scores['neg'], scores['neu'], scores['pos'], scores['compound']])\n",
    "    return np.array(sentiment_scores)\n"
   ]
  },
  {
   "cell_type": "code",
   "execution_count": 17,
   "metadata": {},
   "outputs": [
    {
     "name": "stderr",
     "output_type": "stream",
     "text": [
      "[nltk_data] Downloading package punkt to /Users/james/nltk_data...\n",
      "[nltk_data]   Package punkt is already up-to-date!\n",
      "[nltk_data] Downloading package averaged_perceptron_tagger to\n",
      "[nltk_data]     /Users/james/nltk_data...\n",
      "[nltk_data]   Package averaged_perceptron_tagger is already up-to-\n",
      "[nltk_data]       date!\n",
      "[nltk_data] Downloading package wordnet to /Users/james/nltk_data...\n",
      "[nltk_data]   Package wordnet is already up-to-date!\n"
     ]
    },
    {
     "data": {
      "text/plain": [
       "True"
      ]
     },
     "execution_count": 17,
     "metadata": {},
     "output_type": "execute_result"
    }
   ],
   "source": [
    "nltk.download('punkt')\n",
    "nltk.download('averaged_perceptron_tagger')\n",
    "nltk.download('wordnet')"
   ]
  },
  {
   "cell_type": "code",
   "execution_count": 18,
   "metadata": {},
   "outputs": [
    {
     "name": "stderr",
     "output_type": "stream",
     "text": [
      "[nltk_data] Downloading package averaged_perceptron_tagger to\n",
      "[nltk_data]     /Users/james/nltk_data...\n",
      "[nltk_data]   Package averaged_perceptron_tagger is already up-to-\n",
      "[nltk_data]       date!\n"
     ]
    }
   ],
   "source": [
    "# WORDNET LEMMATIZER (with appropriate pos tags)\n",
    "import nltk\n",
    "from nltk.stem import WordNetLemmatizer\n",
    "nltk.download('averaged_perceptron_tagger')\n",
    "from nltk.corpus import wordnet\n",
    "\n",
    "lemmatizer = WordNetLemmatizer()\n",
    "\n",
    "# Define function to lemmatize each word with its POS tag\n",
    "\n",
    "# POS_TAGGER_FUNCTION : TYPE 1\n",
    "def pos_tagger(nltk_tag):\n",
    "    if nltk_tag.startswith('J'):\n",
    "        return wordnet.ADJ\n",
    "    elif nltk_tag.startswith('V'):\n",
    "        return wordnet.VERB\n",
    "    elif nltk_tag.startswith('N'):\n",
    "        return wordnet.NOUN\n",
    "    elif nltk_tag.startswith('R'):\n",
    "        return wordnet.ADV\n",
    "    else:\n",
    "        return None\n",
    "\n",
    "def lemmatize_with_pos(tokens):\n",
    "  # tokenize the sentence and find the POS tag for each token\n",
    "  pos_tagged = nltk.pos_tag(tokens)\n",
    "\n",
    "  # print(pos_tagged)\n",
    "\n",
    "  wordnet_tagged = list(map(lambda x: (x[0], pos_tagger(x[1])), pos_tagged))\n",
    "  # print(wordnet_tagged)\n",
    "\n",
    "  lemmatized_sentence = []\n",
    "  for word, tag in wordnet_tagged:\n",
    "      if tag is None:\n",
    "          # if there is no available tag, append the token as is\n",
    "          lemmatized_sentence.append(word)\n",
    "      else:\n",
    "          # else use the tag to lemmatize the token\n",
    "          lemmatized_sentence.append(lemmatizer.lemmatize(word, tag))\n",
    "  # lemmatized_sentence = \" \".join(lemmatized_sentence)\n",
    "\n",
    "  # print(lemmatized_sentence)\n",
    "  return lemmatized_sentence"
   ]
  },
  {
   "cell_type": "code",
   "execution_count": 19,
   "metadata": {},
   "outputs": [],
   "source": [
    "from nltk.tokenize import word_tokenize\n",
    "from sklearn.preprocessing import FunctionTransformer\n",
    "\n",
    "def nltk_preprocess(texts):\n",
    "    processed_texts = []\n",
    "    for text in texts:\n",
    "        tokens = word_tokenize(text)\n",
    "\n",
    "        tokens = [w for w in tokens if w.isalpha()]\n",
    "\n",
    "        lemmatized_tokens = lemmatize_with_pos(tokens)\n",
    "\n",
    "        processed_texts.append(' '.join(lemmatized_tokens))\n",
    "    \n",
    "    return processed_texts\n",
    "\n",
    "# Wrap the preprocessing function in a FunctionTransformer\n",
    "nltk_preprocess_transformer = FunctionTransformer(nltk_preprocess)\n"
   ]
  },
  {
   "cell_type": "code",
   "execution_count": 32,
   "metadata": {},
   "outputs": [],
   "source": [
    "pipeline = Pipeline([\n",
    "    ('features', FeatureUnion([\n",
    "        ('text', Pipeline([\n",
    "            ('vect', TfidfVectorizer(ngram_range=(1,2), max_df=0.9, min_df=2, max_features=10000)),\n",
    "            # ('to_dense', FunctionTransformer(lambda x: x.toarray(), accept_sparse=True)), \n",
    "        ])),\n",
    "        # ('length', FunctionTransformer(textLen)),\n",
    "        # ('wordvec', FunctionTransformer(meanEmbed, kw_args={'wordVec': wordVec})),\n",
    "        # ('vader_sentiment', FunctionTransformer(vader_sentiment_features)),\n",
    "    ])),\n",
    "    ('clf', LogisticRegression(max_iter=2000))\n",
    "])"
   ]
  },
  {
   "cell_type": "code",
   "execution_count": 15,
   "metadata": {},
   "outputs": [],
   "source": [
    "pipeline2 = Pipeline([\n",
    "    ('features', FeatureUnion([\n",
    "        ('text', Pipeline([\n",
    "            ('vect', TfidfVectorizer(ngram_range=(1,1), max_df=0.9, min_df=2, max_features=10000)),\n",
    "            # ('to_dense', FunctionTransformer(lambda x: x.toarray(), accept_sparse=True)), \n",
    "        ])),\n",
    "        ('length', FunctionTransformer(textLen)),\n",
    "        ('wordvec', FunctionTransformer(meanEmbed, kw_args={'wordVec': wordVec})),\n",
    "        ('vader_sentiment', FunctionTransformer(vader_sentiment_features)),\n",
    "    ])),\n",
    "    ('clf', LogisticRegression(max_iter=2000))\n",
    "])"
   ]
  },
  {
   "cell_type": "code",
   "execution_count": 29,
   "metadata": {},
   "outputs": [],
   "source": [
    "pipeline3 = Pipeline([\n",
    "    ('nltk_preprocess', nltk_preprocess_transformer),  # Preprocessing step\n",
    "    ('features', FeatureUnion([\n",
    "        ('text', Pipeline([\n",
    "            ('vect', TfidfVectorizer(ngram_range=(1,1), max_df=0.9, min_df=2, max_features=10000)),\n",
    "        ])),\n",
    "        ('length', FunctionTransformer(textLen)),\n",
    "        ('wordvec', FunctionTransformer(meanEmbed, kw_args={'wordVec': wordVec})),\n",
    "        ('vader_sentiment', FunctionTransformer(vader_sentiment_features)),\n",
    "    ])),\n",
    "    ('clf', LogisticRegression(max_iter=2000))\n",
    "])"
   ]
  },
  {
   "cell_type": "code",
   "execution_count": 28,
   "metadata": {},
   "outputs": [],
   "source": [
    "pipeline4 = Pipeline([\n",
    "    ('nltk_preprocess', nltk_preprocess_transformer),  # Preprocessing step\n",
    "    ('features', FeatureUnion([\n",
    "        ('text', Pipeline([\n",
    "            ('vect', TfidfVectorizer(ngram_range=(1,1), max_df=0.9, min_df=2, max_features=30)),\n",
    "        ])),\n",
    "        # ('length', FunctionTransformer(textLen)),\n",
    "        ('wordvec', FunctionTransformer(meanEmbed, kw_args={'wordVec': wordVec})),\n",
    "        # ('vader_sentiment', FunctionTransformer(vader_sentiment_features)),  # Assuming you've defined this earlier\n",
    "    ])),\n",
    "    ('clf', LogisticRegression(max_iter=1000))\n",
    "])"
   ]
  },
  {
   "cell_type": "code",
   "execution_count": 13,
   "metadata": {},
   "outputs": [],
   "source": [
    "def train_model(model, X_train, y_train):\n",
    "    ''' TODO: train your model based on the training data '''\n",
    "    model.fit(X_train, y_train)\n",
    "\n",
    "def predict(model, X_test):\n",
    "    ''' TODO: make your prediction here '''\n",
    "    return model.predict(X_test)"
   ]
  },
  {
   "cell_type": "code",
   "execution_count": 11,
   "metadata": {},
   "outputs": [
    {
     "name": "stderr",
     "output_type": "stream",
     "text": [
      "/Users/james/Documents/NUS/Y2S2/CS4248/Labeled-Unreliable-News/venv/lib/python3.10/site-packages/sklearn/linear_model/_logistic.py:469: ConvergenceWarning: lbfgs failed to converge (status=1):\n",
      "STOP: TOTAL NO. of ITERATIONS REACHED LIMIT.\n",
      "\n",
      "Increase the number of iterations (max_iter) or scale the data as shown in:\n",
      "    https://scikit-learn.org/stable/modules/preprocessing.html\n",
      "Please also refer to the documentation for alternative solver options:\n",
      "    https://scikit-learn.org/stable/modules/linear_model.html#logistic-regression\n",
      "  n_iter_i = _check_optimize_result(\n"
     ]
    },
    {
     "name": "stdout",
     "output_type": "stream",
     "text": [
      "score on validation = 0.7240641520691288\n",
      "classification report on test data\n",
      "              precision    recall  f1-score   support\n",
      "\n",
      "           1       0.85      0.88      0.87       750\n",
      "           2       0.82      0.43      0.56       750\n",
      "           3       0.58      0.71      0.64       750\n",
      "           4       0.76      0.91      0.83       750\n",
      "\n",
      "    accuracy                           0.73      3000\n",
      "   macro avg       0.75      0.73      0.72      3000\n",
      "weighted avg       0.75      0.73      0.72      3000\n",
      "\n"
     ]
    }
   ],
   "source": [
    "#textlen + nltk vader + word2vec + tfidf 10000 features\n",
    "''' load train, val, and test data '''\n",
    "csv.field_size_limit(999999)\n",
    "train = pd.read_csv('raw_data/fulltrain.csv', header = None, names=['class','text'])\n",
    "X_train = train['text']\n",
    "y_train = train['class']\n",
    "model = pipeline\n",
    "\n",
    "train_model(model, X_train, y_train)\n",
    "\n",
    "# generate prediction on test data\n",
    "test = pd.read_csv(\"raw_data/balancedtest.csv\", header = None, names=['class','text'])\n",
    "X_test = test['text']\n",
    "y_test = test['class']\n",
    "\n",
    "y_pred = predict(model, X_test)\n",
    "\n",
    "# Use f1-macro as the metric\n",
    "score = f1_score(y_test, y_pred, average='macro')\n",
    "print('score on validation = {}'.format(score))\n",
    "\n",
    "print('classification report on test data')\n",
    "print(classification_report(y_test, predict(model, X_test)))"
   ]
  },
  {
   "cell_type": "code",
   "execution_count": 16,
   "metadata": {},
   "outputs": [
    {
     "name": "stderr",
     "output_type": "stream",
     "text": [
      "/Users/james/Documents/NUS/Y2S2/CS4248/Labeled-Unreliable-News/venv/lib/python3.10/site-packages/sklearn/linear_model/_logistic.py:469: ConvergenceWarning: lbfgs failed to converge (status=1):\n",
      "STOP: TOTAL NO. of ITERATIONS REACHED LIMIT.\n",
      "\n",
      "Increase the number of iterations (max_iter) or scale the data as shown in:\n",
      "    https://scikit-learn.org/stable/modules/preprocessing.html\n",
      "Please also refer to the documentation for alternative solver options:\n",
      "    https://scikit-learn.org/stable/modules/linear_model.html#logistic-regression\n",
      "  n_iter_i = _check_optimize_result(\n"
     ]
    },
    {
     "name": "stdout",
     "output_type": "stream",
     "text": [
      "score on validation = 0.6607373671495416\n",
      "classification report on test data\n",
      "              precision    recall  f1-score   support\n",
      "\n",
      "           1       0.77      0.81      0.79       750\n",
      "           2       0.67      0.29      0.40       750\n",
      "           3       0.54      0.82      0.65       750\n",
      "           4       0.80      0.79      0.80       750\n",
      "\n",
      "    accuracy                           0.68      3000\n",
      "   macro avg       0.69      0.68      0.66      3000\n",
      "weighted avg       0.69      0.68      0.66      3000\n",
      "\n"
     ]
    }
   ],
   "source": [
    "#3 features + tfidf 30 features\n",
    "''' load train, val, and test data '''\n",
    "csv.field_size_limit(999999)\n",
    "train = pd.read_csv('raw_data/fulltrain.csv', header = None, names=['class','text'])\n",
    "X_train = train['text']\n",
    "y_train = train['class']\n",
    "model = pipeline2\n",
    "\n",
    "train_model(model, X_train, y_train)\n",
    "\n",
    "# generate prediction on test data\n",
    "test = pd.read_csv(\"raw_data/balancedtest.csv\", header = None, names=['class','text'])\n",
    "X_test = test['text']\n",
    "y_test = test['class']\n",
    "\n",
    "y_pred = predict(model, X_test)\n",
    "\n",
    "# Use f1-macro as the metric\n",
    "score = f1_score(y_test, y_pred, average='macro')\n",
    "print('score on validation = {}'.format(score))\n",
    "\n",
    "print('classification report on test data')\n",
    "print(classification_report(y_test, predict(model, X_test)))"
   ]
  },
  {
   "cell_type": "code",
   "execution_count": 14,
   "metadata": {},
   "outputs": [
    {
     "name": "stdout",
     "output_type": "stream",
     "text": [
      "score on validation = 0.7211785285833309\n",
      "classification report on test data\n",
      "              precision    recall  f1-score   support\n",
      "\n",
      "           1       0.85      0.80      0.82       750\n",
      "           2       0.83      0.39      0.53       750\n",
      "           3       0.57      0.82      0.67       750\n",
      "           4       0.81      0.92      0.86       750\n",
      "\n",
      "    accuracy                           0.73      3000\n",
      "   macro avg       0.76      0.73      0.72      3000\n",
      "weighted avg       0.76      0.73      0.72      3000\n",
      "\n"
     ]
    }
   ],
   "source": [
    "#tfidf + LR\n",
    "''' load train, val, and test data '''\n",
    "csv.field_size_limit(999999)\n",
    "train = pd.read_csv('raw_data/fulltrain.csv', header = None, names=['class','text'])\n",
    "X_train = train['text']\n",
    "y_train = train['class']\n",
    "model = pipeline\n",
    "\n",
    "train_model(model, X_train, y_train)\n",
    "\n",
    "# generate prediction on test data\n",
    "test = pd.read_csv(\"raw_data/balancedtest.csv\", header = None, names=['class','text'])\n",
    "X_test = test['text']\n",
    "y_test = test['class']\n",
    "\n",
    "y_pred = predict(model, X_test)\n",
    "\n",
    "# Use f1-macro as the metric\n",
    "score = f1_score(y_test, y_pred, average='macro')\n",
    "print('score on validation = {}'.format(score))\n",
    "\n",
    "print('classification report on test data')\n",
    "print(classification_report(y_test, predict(model, X_test)))"
   ]
  },
  {
   "cell_type": "code",
   "execution_count": 23,
   "metadata": {},
   "outputs": [
    {
     "name": "stderr",
     "output_type": "stream",
     "text": [
      "/Users/james/Documents/NUS/Y2S2/CS4248/Labeled-Unreliable-News/venv/lib/python3.10/site-packages/sklearn/linear_model/_logistic.py:469: ConvergenceWarning: lbfgs failed to converge (status=1):\n",
      "STOP: TOTAL NO. of ITERATIONS REACHED LIMIT.\n",
      "\n",
      "Increase the number of iterations (max_iter) or scale the data as shown in:\n",
      "    https://scikit-learn.org/stable/modules/preprocessing.html\n",
      "Please also refer to the documentation for alternative solver options:\n",
      "    https://scikit-learn.org/stable/modules/linear_model.html#logistic-regression\n",
      "  n_iter_i = _check_optimize_result(\n"
     ]
    },
    {
     "name": "stdout",
     "output_type": "stream",
     "text": [
      "score on validation = 0.7169600197223034\n",
      "classification report on test data\n",
      "              precision    recall  f1-score   support\n",
      "\n",
      "           1       0.84      0.86      0.85       750\n",
      "           2       0.81      0.40      0.54       750\n",
      "           3       0.58      0.76      0.66       750\n",
      "           4       0.76      0.90      0.83       750\n",
      "\n",
      "    accuracy                           0.73      3000\n",
      "   macro avg       0.75      0.73      0.72      3000\n",
      "weighted avg       0.75      0.73      0.72      3000\n",
      "\n"
     ]
    }
   ],
   "source": [
    "#3 features + POS tagging \n",
    "''' load train, val, and test data '''\n",
    "csv.field_size_limit(999999)\n",
    "train = pd.read_csv('raw_data/fulltrain.csv', header = None, names=['class','text'])\n",
    "X_train = train['text']\n",
    "y_train = train['class']\n",
    "model = pipeline3\n",
    "\n",
    "train_model(model, X_train, y_train)\n",
    "\n",
    "# generate prediction on test data\n",
    "test = pd.read_csv(\"raw_data/balancedtest.csv\", header = None, names=['class','text'])\n",
    "X_test = test['text']\n",
    "y_test = test['class']\n",
    "\n",
    "y_pred = predict(model, X_test)\n",
    "\n",
    "# Use f1-macro as the metric\n",
    "score = f1_score(y_test, y_pred, average='macro')\n",
    "print('score on validation = {}'.format(score))\n",
    "\n",
    "print('classification report on test data')\n",
    "print(classification_report(y_test, predict(model, X_test)))"
   ]
  },
  {
   "cell_type": "code",
   "execution_count": 30,
   "metadata": {},
   "outputs": [
    {
     "name": "stderr",
     "output_type": "stream",
     "text": [
      "/Users/james/Documents/NUS/Y2S2/CS4248/Labeled-Unreliable-News/venv/lib/python3.10/site-packages/sklearn/linear_model/_logistic.py:469: ConvergenceWarning: lbfgs failed to converge (status=1):\n",
      "STOP: TOTAL NO. of ITERATIONS REACHED LIMIT.\n",
      "\n",
      "Increase the number of iterations (max_iter) or scale the data as shown in:\n",
      "    https://scikit-learn.org/stable/modules/preprocessing.html\n",
      "Please also refer to the documentation for alternative solver options:\n",
      "    https://scikit-learn.org/stable/modules/linear_model.html#logistic-regression\n",
      "  n_iter_i = _check_optimize_result(\n"
     ]
    },
    {
     "name": "stdout",
     "output_type": "stream",
     "text": [
      "score on validation = 0.7067468465946685\n",
      "classification report on test data\n",
      "              precision    recall  f1-score   support\n",
      "\n",
      "           1       0.84      0.87      0.86       750\n",
      "           2       0.80      0.41      0.55       750\n",
      "           3       0.58      0.67      0.62       750\n",
      "           4       0.72      0.92      0.81       750\n",
      "\n",
      "    accuracy                           0.72      3000\n",
      "   macro avg       0.73      0.72      0.71      3000\n",
      "weighted avg       0.73      0.72      0.71      3000\n",
      "\n"
     ]
    }
   ],
   "source": [
    "#3 features + POS tagging \n",
    "''' load train, val, and test data '''\n",
    "csv.field_size_limit(999999)\n",
    "train = pd.read_csv('raw_data/fulltrain.csv', header = None, names=['class','text'])\n",
    "X_train = train['text']\n",
    "y_train = train['class']\n",
    "model = pipeline3\n",
    "\n",
    "train_model(model, X_train, y_train)\n",
    "\n",
    "# generate prediction on test data\n",
    "test = pd.read_csv(\"raw_data/balancedtest.csv\", header = None, names=['class','text'])\n",
    "X_test = test['text']\n",
    "y_test = test['class']\n",
    "\n",
    "y_pred = predict(model, X_test)\n",
    "\n",
    "# Use f1-macro as the metric\n",
    "score = f1_score(y_test, y_pred, average='macro')\n",
    "print('score on validation = {}'.format(score))\n",
    "\n",
    "print('classification report on test data')\n",
    "print(classification_report(y_test, predict(model, X_test)))"
   ]
  },
  {
   "cell_type": "code",
   "execution_count": 31,
   "metadata": {},
   "outputs": [
    {
     "name": "stdout",
     "output_type": "stream",
     "text": [
      "score on validation = 0.6719208912060579\n",
      "classification report on test data\n",
      "              precision    recall  f1-score   support\n",
      "\n",
      "           1       0.79      0.79      0.79       750\n",
      "           2       0.74      0.32      0.45       750\n",
      "           3       0.54      0.78      0.64       750\n",
      "           4       0.77      0.87      0.81       750\n",
      "\n",
      "    accuracy                           0.69      3000\n",
      "   macro avg       0.71      0.69      0.67      3000\n",
      "weighted avg       0.71      0.69      0.67      3000\n",
      "\n"
     ]
    }
   ],
   "source": [
    "# wordvec features + POS tagging + tfidf 30\n",
    "''' load train, val, and test data '''\n",
    "csv.field_size_limit(999999)\n",
    "train = pd.read_csv('raw_data/fulltrain.csv', header = None, names=['class','text'])\n",
    "X_train = train['text']\n",
    "y_train = train['class']\n",
    "model = pipeline4\n",
    "\n",
    "train_model(model, X_train, y_train)\n",
    "\n",
    "# generate prediction on test data\n",
    "test = pd.read_csv(\"raw_data/balancedtest.csv\", header = None, names=['class','text'])\n",
    "X_test = test['text']\n",
    "y_test = test['class']\n",
    "\n",
    "y_pred = predict(model, X_test)\n",
    "\n",
    "# Use f1-macro as the metric\n",
    "score = f1_score(y_test, y_pred, average='macro')\n",
    "print('score on validation = {}'.format(score))\n",
    "\n",
    "print('classification report on test data')\n",
    "print(classification_report(y_test, predict(model, X_test)))"
   ]
  }
 ],
 "metadata": {
  "kernelspec": {
   "display_name": "venv",
   "language": "python",
   "name": "python3"
  },
  "language_info": {
   "codemirror_mode": {
    "name": "ipython",
    "version": 3
   },
   "file_extension": ".py",
   "mimetype": "text/x-python",
   "name": "python",
   "nbconvert_exporter": "python",
   "pygments_lexer": "ipython3",
   "version": "3.10.6"
  }
 },
 "nbformat": 4,
 "nbformat_minor": 2
}
